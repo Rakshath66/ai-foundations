{
 "cells": [
  {
   "cell_type": "markdown",
   "metadata": {},
   "source": [
    "📦 Phase 1.2: NumPy (Numerical Python)\n",
    "🔍 Why it matters:\n",
    "Backbone of ML/AI: fast array operations, math, and matrix ops\n",
    "\n",
    "Used in nearly every AI pipeline (especially with vectors & tensors)\n",
    "\n",
    "✅ NumPy Core Concepts Checklist:\n",
    "Concept\tWhy It Matters\n",
    "np.array\tCreate arrays (1D, 2D, ND)\n",
    "Indexing/Slicing\tAccess & manipulate data\n",
    "Array Math (add, mult, etc)\tEfficient vectorized computation\n",
    "Shape, Reshape, Flatten\tManage tensor shapes (important for models)\n",
    "Broadcasting\tAuto-matching shapes in math ops\n",
    "Random module\tGenerate data / test data\n",
    "Axis & Aggregations\tSum, mean, etc. across rows/columns"
   ]
  },
  {
   "cell_type": "code",
   "execution_count": null,
   "metadata": {},
   "outputs": [
    {
     "name": "stdout",
     "output_type": "stream",
     "text": [
      "[1 2 3]\n",
      "[[3 4]\n",
      " [5 6]]\n"
     ]
    }
   ],
   "source": [
    "#create array\n",
    "import numpy as np\n",
    "\n",
    "arr_1d = np.array([1, 2, 3])\n",
    "arr_2d = np.array([[3, 4], [5, 6]])\n",
    "\n",
    "a = np.array([2, 3])\n",
    "b=np.array([1, 2, 3])\n",
    "\n",
    "print(arr_1d)\n",
    "print(arr_2d)"
   ]
  },
  {
   "cell_type": "code",
   "execution_count": 21,
   "metadata": {},
   "outputs": [
    {
     "name": "stdout",
     "output_type": "stream",
     "text": [
      "4\n",
      "[1 2]\n",
      "[[6]]\n",
      "[3 5]\n"
     ]
    }
   ],
   "source": [
    "#index slicing\n",
    "print(arr_2d[0][1])\n",
    "print(arr_1d[:2])\n",
    "print(arr_2d[1:, 1:])\n",
    "print(arr_2d[:,0])"
   ]
  },
  {
   "cell_type": "code",
   "execution_count": 22,
   "metadata": {},
   "outputs": [
    {
     "name": "stdout",
     "output_type": "stream",
     "text": [
      "[2 4 6]\n",
      "[1 4 9]\n"
     ]
    }
   ],
   "source": [
    "#math\n",
    "print(arr_1d + b)\n",
    "print(arr_1d * b)"
   ]
  },
  {
   "cell_type": "code",
   "execution_count": 23,
   "metadata": {},
   "outputs": [
    {
     "name": "stdout",
     "output_type": "stream",
     "text": [
      "[[5 7]\n",
      " [7 9]]\n"
     ]
    }
   ],
   "source": [
    "#broadcasting\n",
    "print(arr_2d+ a)"
   ]
  },
  {
   "cell_type": "code",
   "execution_count": null,
   "metadata": {},
   "outputs": [
    {
     "name": "stdout",
     "output_type": "stream",
     "text": [
      "18\n",
      "4.5\n",
      "(2, 2)\n",
      "int64\n",
      "[[3]\n",
      " [4]\n",
      " [5]\n",
      " [6]]\n",
      "[3 4 5 6]\n"
     ]
    }
   ],
   "source": [
    "#method\n",
    "print(np.sum(arr_2d))\n",
    "print(np.mean(arr_2d))\n",
    "\n",
    "print(arr_2d.shape)\n",
    "print(arr_2d.dtype)\n",
    "print(arr_2d.reshape(4, 1))\n",
    "print(arr_2d.flatten())"
   ]
  },
  {
   "cell_type": "code",
   "execution_count": 25,
   "metadata": {},
   "outputs": [
    {
     "name": "stdout",
     "output_type": "stream",
     "text": [
      "[[0. 0. 0.]\n",
      " [0. 0. 0.]]\n",
      "[[1. 1. 1.]\n",
      " [1. 1. 1.]]\n",
      "[[0.45881033 0.16526211 0.47054054]\n",
      " [0.89370606 0.82776201 0.8738129 ]]\n",
      "[[ 0.11605705  0.47561646 -1.1488125 ]\n",
      " [-0.39343248  0.34704373 -0.33473023]\n",
      " [-0.7548672  -0.21132304  0.19933317]]\n",
      "[[9 9]\n",
      " [1 9]]\n"
     ]
    }
   ],
   "source": [
    "#generate data\n",
    "np.zeros((2, 3))  \n",
    "print(np.zeros((2,3)))\n",
    "print(np.ones((2,3)))\n",
    "print(np.random.rand(2,3))\n",
    "print(np.random.randn(3,3)) #normal distribution float values\n",
    "print(np.random.randint(0,10, size=(2,2)))"
   ]
  },
  {
   "cell_type": "code",
   "execution_count": 27,
   "metadata": {},
   "outputs": [
    {
     "name": "stdout",
     "output_type": "stream",
     "text": [
      "[ 8 10]\n",
      "[ 7 11]\n",
      "[4. 5.]\n",
      "[3.5 5.5]\n"
     ]
    }
   ],
   "source": [
    "#axis aggregation\n",
    "print(np.sum(arr_2d, axis=0))\n",
    "print(np.sum(arr_2d, axis=1))\n",
    "print(np.mean(arr_2d, axis=0))\n",
    "print(np.mean(arr_2d, axis=1))"
   ]
  },
  {
   "cell_type": "code",
   "execution_count": 28,
   "metadata": {},
   "outputs": [
    {
     "name": "stdout",
     "output_type": "stream",
     "text": [
      "Matrix:\n",
      " [[5 5 8]\n",
      " [8 2 6]\n",
      " [3 7 5]]\n",
      "Slice center: [[2 6]\n",
      " [7 5]]\n",
      "Sum across rows: [18 16 15]\n",
      "Sum across cols: [16 14 19]\n",
      "Broadcast result:\n",
      " [[ 6  7 11]\n",
      " [ 9  4  9]\n",
      " [ 4  9  8]]\n"
     ]
    }
   ],
   "source": [
    "#combine everything\n",
    "a = np.random.randint(1, 10, (3, 3))\n",
    "print(\"Matrix:\\n\", a)\n",
    "print(\"Slice center:\", a[1:, 1:])\n",
    "print(\"Sum across rows:\", np.sum(a, axis=1))\n",
    "print(\"Sum across cols:\", np.sum(a, axis=0))\n",
    "\n",
    "b = np.array([1, 2, 3])\n",
    "print(\"Broadcast result:\\n\", a + b)\n"
   ]
  },
  {
   "cell_type": "code",
   "execution_count": 34,
   "metadata": {},
   "outputs": [
    {
     "name": "stdout",
     "output_type": "stream",
     "text": [
      "[[7 5]\n",
      " [1 7]]\n",
      "[[9 5]\n",
      " [7 5]]\n",
      "[[16 10]\n",
      " [ 8 12]]\n",
      "[[-2  0]\n",
      " [-6  2]]\n",
      "[[63 25]\n",
      " [ 7 35]]\n",
      "[[7 1]\n",
      " [5 7]]\n",
      "\n",
      "Inverse of X:\n",
      " [[ 0.15909091 -0.11363636]\n",
      " [-0.02272727  0.15909091]]\n"
     ]
    }
   ],
   "source": [
    "#matrix calculator\n",
    "x = np.random.randint(1, 10, size=(2, 2))\n",
    "y = np.random.randint(1, 10, size=(2, 2))\n",
    "print(x)\n",
    "print(y)\n",
    "\n",
    "#add\n",
    "print(x+y)\n",
    "\n",
    "#substract\n",
    "print(x-y)\n",
    "\n",
    "#multiply\n",
    "print(x*y)\n",
    "\n",
    "#transpose\n",
    "print(np.transpose(x))\n",
    "\n",
    "# Inverse (only if matrix is invertible)\n",
    "try:\n",
    "    inverse_x = np.linalg.inv(x)\n",
    "    print(\"\\nInverse of X:\\n\", inverse_x)\n",
    "except np.linalg.LinAlgError:\n",
    "    print(\"\\nX is not invertible.\")"
   ]
  },
  {
   "cell_type": "code",
   "execution_count": null,
   "metadata": {},
   "outputs": [],
   "source": []
  },
  {
   "cell_type": "code",
   "execution_count": null,
   "metadata": {},
   "outputs": [],
   "source": []
  },
  {
   "cell_type": "code",
   "execution_count": null,
   "metadata": {},
   "outputs": [],
   "source": []
  },
  {
   "cell_type": "code",
   "execution_count": null,
   "metadata": {},
   "outputs": [],
   "source": []
  },
  {
   "cell_type": "code",
   "execution_count": null,
   "metadata": {},
   "outputs": [],
   "source": []
  },
  {
   "cell_type": "code",
   "execution_count": null,
   "metadata": {},
   "outputs": [],
   "source": []
  },
  {
   "cell_type": "code",
   "execution_count": null,
   "metadata": {},
   "outputs": [],
   "source": []
  },
  {
   "cell_type": "code",
   "execution_count": null,
   "metadata": {},
   "outputs": [],
   "source": []
  },
  {
   "cell_type": "code",
   "execution_count": null,
   "metadata": {},
   "outputs": [],
   "source": []
  },
  {
   "cell_type": "code",
   "execution_count": null,
   "metadata": {},
   "outputs": [],
   "source": []
  },
  {
   "cell_type": "code",
   "execution_count": null,
   "metadata": {},
   "outputs": [],
   "source": []
  },
  {
   "cell_type": "code",
   "execution_count": null,
   "metadata": {},
   "outputs": [],
   "source": []
  },
  {
   "cell_type": "code",
   "execution_count": null,
   "metadata": {},
   "outputs": [],
   "source": []
  },
  {
   "cell_type": "code",
   "execution_count": null,
   "metadata": {},
   "outputs": [],
   "source": []
  },
  {
   "cell_type": "code",
   "execution_count": null,
   "metadata": {},
   "outputs": [],
   "source": []
  },
  {
   "cell_type": "code",
   "execution_count": null,
   "metadata": {},
   "outputs": [],
   "source": []
  }
 ],
 "metadata": {
  "kernelspec": {
   "display_name": "Python 3",
   "language": "python",
   "name": "python3"
  },
  "language_info": {
   "codemirror_mode": {
    "name": "ipython",
    "version": 3
   },
   "file_extension": ".py",
   "mimetype": "text/x-python",
   "name": "python",
   "nbconvert_exporter": "python",
   "pygments_lexer": "ipython3",
   "version": "3.13.3"
  }
 },
 "nbformat": 4,
 "nbformat_minor": 2
}

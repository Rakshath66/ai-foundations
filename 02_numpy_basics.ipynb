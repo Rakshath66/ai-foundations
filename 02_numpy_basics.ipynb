{
 "cells": [
  {
   "cell_type": "markdown",
   "metadata": {},
   "source": [
    "📦 Phase 1.2: NumPy (Numerical Python)\n",
    "🔍 Why it matters:\n",
    "\n",
    "Backbone of ML/AI: fast array operations, math, and matrix ops\n",
    "\n",
    "Used in nearly every AI pipeline (especially with vectors & tensors)\n",
    "yes\n",
    "\n",
    "Speed: Vectorized operations using C under the hood.\n",
    "\n",
    "Memory-efficient: Works with large datasets better than Python lists.\n",
    "\n",
    "Base for ML: Libraries like TensorFlow, PyTorch, and scikit-learn rely heavily on NumPy arrays.\n",
    "\n",
    "✅ NumPy Core Concepts Checklist:\n",
    "Concept\tWhy It Matters\n",
    "np.array\tCreate arrays (1D, 2D, ND)\n",
    "Indexing/Slicing\tAccess & manipulate data\n",
    "Array Math (add, mult, etc)\tEfficient vectorized computation\n",
    "Shape, Reshape, Flatten\tManage tensor shapes (important for models)\n",
    "Broadcasting\tAuto-matching shapes in math ops\n",
    "Random module\tGenerate data / test data\n",
    "Axis & Aggregations\tSum, mean, etc. across rows/columns"
   ]
  },
  {
   "cell_type": "code",
   "execution_count": 2,
   "metadata": {},
   "outputs": [
    {
     "name": "stdout",
     "output_type": "stream",
     "text": [
      "[1 2 3]\n",
      "[[3 4]\n",
      " [5 6]]\n"
     ]
    }
   ],
   "source": [
    "#create array\n",
    "import numpy as np\n",
    "\n",
    "arr_1d = np.array([1, 2, 3])\n",
    "arr_2d = np.array([[3, 4], [5, 6]])\n",
    "\n",
    "a = np.array([2, 3])\n",
    "b=np.array([1, 2, 3])\n",
    "\n",
    "print(arr_1d)\n",
    "print(arr_2d)"
   ]
  },
  {
   "cell_type": "code",
   "execution_count": 3,
   "metadata": {},
   "outputs": [
    {
     "name": "stdout",
     "output_type": "stream",
     "text": [
      "4\n",
      "[1 2]\n",
      "[[6]]\n",
      "[3 5]\n"
     ]
    }
   ],
   "source": [
    "#index slicing\n",
    "print(arr_2d[0][1])\n",
    "print(arr_1d[:2])\n",
    "print(arr_2d[1:, 1:])\n",
    "print(arr_2d[:,0])"
   ]
  },
  {
   "cell_type": "code",
   "execution_count": 4,
   "metadata": {},
   "outputs": [
    {
     "name": "stdout",
     "output_type": "stream",
     "text": [
      "[2 4 6]\n",
      "[1 4 9]\n"
     ]
    }
   ],
   "source": [
    "#math\n",
    "print(arr_1d + b)\n",
    "print(arr_1d * b)"
   ]
  },
  {
   "cell_type": "code",
   "execution_count": 8,
   "metadata": {},
   "outputs": [
    {
     "name": "stdout",
     "output_type": "stream",
     "text": [
      "[[5 7]\n",
      " [7 9]]\n",
      "[[2 3 4]\n",
      " [5 6 7]]\n",
      "[[11 22 33]\n",
      " [14 25 36]]\n",
      "[[101 102 103]\n",
      " [204 205 206]]\n"
     ]
    }
   ],
   "source": [
    "#broadcasting\n",
    "print(arr_2d+ a)\n",
    "\n",
    "ar = np.array([[1, 2, 3],\n",
    "                [4, 5, 6]])\n",
    "\n",
    "# Add 1 to every element\n",
    "print(ar + 1)\n",
    "\n",
    "# Add row-wise\n",
    "row = np.array([10, 20, 30])\n",
    "print(ar + row)\n",
    "\n",
    "# Add column-wise\n",
    "col = np.array([[100], [200]])\n",
    "print(ar + col)"
   ]
  },
  {
   "cell_type": "code",
   "execution_count": null,
   "metadata": {},
   "outputs": [
    {
     "name": "stdout",
     "output_type": "stream",
     "text": [
      "18\n",
      "4.5\n",
      "6\n",
      "3\n",
      "1.118033988749895\n",
      "1.25\n",
      "4.5\n",
      "3.75\n",
      "(2, 2)\n",
      "int64\n",
      "4\n",
      "2\n",
      "[[3]\n",
      " [4]\n",
      " [5]\n",
      " [6]]\n",
      "[3 4 5 6]\n"
     ]
    }
   ],
   "source": [
    "#method\n",
    "print(np.sum(arr_2d))\n",
    "print(np.mean(arr_2d))\n",
    "print(np.max(arr_2d))\n",
    "print(np.min(arr_2d))\n",
    "print(arr_2d.std())\n",
    "print(arr_2d.var())\n",
    "print(np.median(arr_2d))\n",
    "print(np.percentile(arr_2d, 25))\n",
    "\n",
    "print(arr_2d.shape)\n",
    "print(arr_2d.dtype)\n",
    "print(arr_2d.size)\n",
    "print(arr_2d.ndim)\n",
    "print(arr_2d.reshape(4, 1))\n",
    "print(arr_2d.flatten()) #Reshaping images for models, flattening before feeding into layers, normalizing using broadcasting."
   ]
  },
  {
   "cell_type": "code",
   "execution_count": 25,
   "metadata": {},
   "outputs": [
    {
     "name": "stdout",
     "output_type": "stream",
     "text": [
      "[[0. 0. 0.]\n",
      " [0. 0. 0.]]\n",
      "[[1. 1. 1.]\n",
      " [1. 1. 1.]]\n",
      "[[0.45881033 0.16526211 0.47054054]\n",
      " [0.89370606 0.82776201 0.8738129 ]]\n",
      "[[ 0.11605705  0.47561646 -1.1488125 ]\n",
      " [-0.39343248  0.34704373 -0.33473023]\n",
      " [-0.7548672  -0.21132304  0.19933317]]\n",
      "[[9 9]\n",
      " [1 9]]\n"
     ]
    }
   ],
   "source": [
    "#generate data\n",
    "np.zeros((2, 3))  \n",
    "print(np.zeros((2,3)))\n",
    "print(np.ones((2,3)))\n",
    "print(np.random.rand(2,3))\n",
    "print(np.random.randn(3,3)) #normal distribution float values\n",
    "print(np.random.randint(0,10, size=(2,2)))"
   ]
  },
  {
   "cell_type": "code",
   "execution_count": null,
   "metadata": {},
   "outputs": [
    {
     "name": "stdout",
     "output_type": "stream",
     "text": [
      "[ 8 10]\n",
      "[ 7 11]\n",
      "[4. 5.]\n",
      "[3.5 5.5]\n"
     ]
    }
   ],
   "source": [
    "#axis aggregation\n",
    "print(np.sum(arr_2d, axis=0))\n",
    "print(np.sum(arr_2d, axis=1))\n",
    "print(np.mean(arr_2d, axis=0))\n",
    "print(np.mean(arr_2d, axis=1))\n",
    "\n",
    "print(arr_2d.sum(axis=0))\n",
    "print(arr_2d.sum(axis=1))"
   ]
  },
  {
   "cell_type": "code",
   "execution_count": 28,
   "metadata": {},
   "outputs": [
    {
     "name": "stdout",
     "output_type": "stream",
     "text": [
      "Matrix:\n",
      " [[5 5 8]\n",
      " [8 2 6]\n",
      " [3 7 5]]\n",
      "Slice center: [[2 6]\n",
      " [7 5]]\n",
      "Sum across rows: [18 16 15]\n",
      "Sum across cols: [16 14 19]\n",
      "Broadcast result:\n",
      " [[ 6  7 11]\n",
      " [ 9  4  9]\n",
      " [ 4  9  8]]\n"
     ]
    }
   ],
   "source": [
    "#combine everything\n",
    "a = np.random.randint(1, 10, (3, 3))\n",
    "print(\"Matrix:\\n\", a)\n",
    "print(\"Slice center:\", a[1:, 1:])\n",
    "print(\"Sum across rows:\", np.sum(a, axis=1))\n",
    "print(\"Sum across cols:\", np.sum(a, axis=0))\n",
    "\n",
    "b = np.array([1, 2, 3])\n",
    "print(\"Broadcast result:\\n\", a + b)\n"
   ]
  },
  {
   "cell_type": "code",
   "execution_count": null,
   "metadata": {},
   "outputs": [
    {
     "name": "stdout",
     "output_type": "stream",
     "text": [
      "[[7 5]\n",
      " [1 7]]\n",
      "[[9 5]\n",
      " [7 5]]\n",
      "[[16 10]\n",
      " [ 8 12]]\n",
      "[[-2  0]\n",
      " [-6  2]]\n",
      "[[63 25]\n",
      " [ 7 35]]\n",
      "[[7 1]\n",
      " [5 7]]\n",
      "\n",
      "Inverse of X:\n",
      " [[ 0.15909091 -0.11363636]\n",
      " [-0.02272727  0.15909091]]\n"
     ]
    }
   ],
   "source": [
    "#matrix calculator\n",
    "x = np.random.randint(1, 10, size=(2, 2))\n",
    "y = np.random.randint(1, 10, size=(2, 2))\n",
    "print(x)\n",
    "print(y)\n",
    "\n",
    "#add\n",
    "print(x+y)\n",
    "\n",
    "#substract\n",
    "print(x-y)\n",
    "\n",
    "#multiply\n",
    "print(x*y)\n",
    "\n",
    "#power\n",
    "print(x**y)\n",
    "\n",
    "#transpose\n",
    "print(np.transpose(x))\n",
    "\n",
    "# Inverse (only if matrix is invertible)\n",
    "try:\n",
    "    inverse_x = np.linalg.inv(x)\n",
    "    print(\"\\nInverse of X:\\n\", inverse_x)\n",
    "except np.linalg.LinAlgError:\n",
    "    print(\"\\nX is not invertible.\")"
   ]
  },
  {
   "cell_type": "code",
   "execution_count": 19,
   "metadata": {},
   "outputs": [
    {
     "name": "stdout",
     "output_type": "stream",
     "text": [
      "[False False  True  True  True]\n",
      "[30 40 50]\n",
      "[10 20 30]\n",
      "[ 0  0 30 40 50]\n",
      "[30 40]\n",
      "['Fail' 'Pass' 'Fail' 'Pass']\n",
      "2\n",
      "True\n",
      "False\n"
     ]
    }
   ],
   "source": [
    "#🚀 STEP 5: Boolean Masking & Conditional Filtering in NumPy\n",
    "#✅ Boolean Masking\n",
    "arr = np.array([10, 20, 30, 40, 50])\n",
    "mask = arr > 25\n",
    "print(mask)         # [False False  True  True  True]\n",
    "print(arr[mask])    # [30 40 50]\n",
    "\n",
    "#✅ Direct Conditional Filter - print values less than 40\n",
    "print(arr[arr < 40])   # [10 20 30]\n",
    "\n",
    "#✅ Modify values conditionally - 0 to less than 30\n",
    "arr[arr < 30] = 0\n",
    "print(arr)  # [ 0  0 30 40 50]\n",
    "\n",
    "#✅ Logical Operators\n",
    "arr = np.array([10, 20, 30, 40, 50])\n",
    "print(arr[(arr > 20) & (arr < 45)])   # [30 40]\n",
    "\n",
    "grades = np.array([45, 85, 30, 90])\n",
    "result = np.where(grades >= 50, 'Pass', 'Fail')\n",
    "print(result)  # ['Fail' 'Pass' 'Fail' 'Pass']\n",
    "\n",
    "print((arr > 30).sum())     # How many values > 30\n",
    "print(np.all(arr > 5))      # Are all elements > 5? → True\n",
    "print(np.any(arr > 100))    # Any value > 100? → False\n",
    "\n"
   ]
  },
  {
   "cell_type": "code",
   "execution_count": 13,
   "metadata": {},
   "outputs": [
    {
     "name": "stdout",
     "output_type": "stream",
     "text": [
      "[[1 2]\n",
      " [3 4]]\n",
      "[1 2 3 4]\n",
      "[[1 2]\n",
      " [3 4]]\n",
      "[[1 3]\n",
      " [2 4]]\n"
     ]
    }
   ],
   "source": [
    "# 🚀 STEP 6: Stacking & Splitting Arrays in NumPy\n",
    "# These operations simulate real-world scenarios like merging data or segmenting arrays (e.g., image channels, sensor data).\n",
    "\n",
    "# 🔷 1. Stacking Arrays\n",
    "# ✅ np.vstack (vertical stack — row-wise) = axis=0 np.stack\n",
    "a = np.array([1, 2])\n",
    "b = np.array([3, 4])\n",
    "stacked = np.vstack((a, b))\n",
    "print(stacked)\n",
    "# [[1 2]\n",
    "#  [3 4]]\n",
    "\n",
    "#✅ np.hstack (horizontal stack — column-wise)\n",
    "hstacked = np.hstack((a, b))\n",
    "print(hstacked)  # [1 2 3 4]\n",
    "\n",
    "#✅ np.stack (combine along a new axis)\n",
    "stacked = np.stack((a, b), axis=0)\n",
    "print(stacked)\n",
    "# [[1 2]\n",
    "#  [3 4]]\n",
    "\n",
    "stacked_axis1 = np.stack((a, b), axis=1)\n",
    "print(stacked_axis1)\n",
    "# [[1 3]\n",
    "#  [2 4]]\n"
   ]
  },
  {
   "cell_type": "code",
   "execution_count": 35,
   "metadata": {},
   "outputs": [
    {
     "name": "stdout",
     "output_type": "stream",
     "text": [
      "[array([10, 20]), array([30, 40]), array([50, 60])]\n",
      "[array([10, 20]), array([30, 40]), array([50]), array([60])]\n",
      "hsplit:\n",
      " [[1 2]\n",
      " [5 6]] \n",
      " [[3 4]\n",
      " [7 8]]\n"
     ]
    }
   ],
   "source": [
    "# 🔷 2. Splitting Arrays\n",
    "# ✅ np.split (split evenly)\n",
    "arr = np.array([10, 20, 30, 40, 50, 60])\n",
    "splits = np.split(arr, 3)\n",
    "print(splits)\n",
    "# [array([10, 20]), array([30, 40]), array([50, 60])]\n",
    "\n",
    "#✅ np.array_split (allows uneven splits)\n",
    "splits = np.array_split(arr, 4)\n",
    "print(splits)\n",
    "# [array([10, 20]), array([30, 40]), array([50]), array([60])]\n",
    "\n",
    "#✂️ 2. Splitting: Break into chunks\n",
    "arr = np.array([[1, 2, 3, 4], [5, 6, 7, 8]])\n",
    "\n",
    "# Split into 2 parts along columns\n",
    "split = np.hsplit(arr, 2)\n",
    "print(\"hsplit:\\n\", split[0], \"\\n\", split[1])\n",
    "\n"
   ]
  },
  {
   "cell_type": "code",
   "execution_count": null,
   "metadata": {},
   "outputs": [
    {
     "name": "stdout",
     "output_type": "stream",
     "text": [
      "Sorted: [10 20 30]\n",
      "Argsort: [1 2 0]\n"
     ]
    }
   ],
   "source": [
    "x = np.array([30, 10, 20])\n",
    "sorted_x = np.sort(x)\n",
    "print(\"Sorted:\", sorted_x)\n",
    "\n",
    "# Argsort returns the original indexes of sorted values\n",
    "print(\"Argsort:\", np.argsort(x))\n",
    "\n",
    "# 💡 Real Use:\n",
    "# Stack images/text for batching\n",
    "# Split dataset into training/testing\n",
    "# Sort predictions or scores"
   ]
  },
  {
   "cell_type": "markdown",
   "metadata": {},
   "source": [
    "✅ Mini Task:\n",
    "Create a 3x4 NumPy array with random ints from 0–100.\n",
    "Find:\n",
    "\n",
    "Mean of each column\n",
    "\n",
    "Row with highest sum\n",
    "\n",
    "% of values > 50"
   ]
  },
  {
   "cell_type": "code",
   "execution_count": 34,
   "metadata": {},
   "outputs": [
    {
     "name": "stdout",
     "output_type": "stream",
     "text": [
      "[[ 6  4  2  6]\n",
      " [ 7  3 10 11]\n",
      " [ 8  0  1  2]]\n",
      "\n",
      "[7.         2.33333333 4.33333333 6.33333333]\n",
      "31\n",
      "[]\n",
      "% of values > 50: 0.00%\n"
     ]
    }
   ],
   "source": [
    "arr = np.random.randint(0, 12, size=(3, 4))\n",
    "print(arr, end=\"\\n\\n\")\n",
    "\n",
    "#Mean of each column\n",
    "print(arr.mean(axis=0))\n",
    "\n",
    "#Row with highest sum\n",
    "print(np.max(arr.sum(axis=1)))\n",
    "#OPTIONAL print(arr[arr.sum(axis=1).argmax()])\n",
    "print(arr[arr > 50])\n",
    "\n",
    "#% of values > 50\n",
    "#print(np.percentile(arr[arr > 50], 100)) #This just gives values above 50 and the max of those.\n",
    "percent_above_50 = (arr > 50).sum() / arr.size * 100\n",
    "print(f\"% of values > 50: {percent_above_50:.2f}%\")\n",
    "\n"
   ]
  },
  {
   "cell_type": "code",
   "execution_count": null,
   "metadata": {},
   "outputs": [],
   "source": []
  }
 ],
 "metadata": {
  "kernelspec": {
   "display_name": "Python 3",
   "language": "python",
   "name": "python3"
  },
  "language_info": {
   "codemirror_mode": {
    "name": "ipython",
    "version": 3
   },
   "file_extension": ".py",
   "mimetype": "text/x-python",
   "name": "python",
   "nbconvert_exporter": "python",
   "pygments_lexer": "ipython3",
   "version": "3.13.3"
  }
 },
 "nbformat": 4,
 "nbformat_minor": 2
}

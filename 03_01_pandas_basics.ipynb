{
 "cells": [
  {
   "cell_type": "markdown",
   "id": "0cf3191b",
   "metadata": {},
   "source": [
    "Series - (single column)"
   ]
  },
  {
   "cell_type": "code",
   "execution_count": 13,
   "id": "d4ca68e2",
   "metadata": {},
   "outputs": [
    {
     "name": "stdout",
     "output_type": "stream",
     "text": [
      "0     80\n",
      "1     90\n",
      "2    100\n",
      "Name: Math Scores, dtype: int64\n"
     ]
    }
   ],
   "source": [
    "#create series\n",
    "import pandas as pd\n",
    "\n",
    "scores = pd.Series([80,90,100], name = \"Math Scores\")\n",
    "print(scores)"
   ]
  },
  {
   "cell_type": "code",
   "execution_count": 14,
   "id": "fae7acf0",
   "metadata": {},
   "outputs": [
    {
     "name": "stdout",
     "output_type": "stream",
     "text": [
      "[ 80  90 100]\n",
      "RangeIndex(start=0, stop=3, step=1)\n",
      "\n",
      "0     80\n",
      "1     90\n",
      "2    100\n",
      "Name: Math Scores, dtype: int64\n",
      "80\n"
     ]
    }
   ],
   "source": [
    "# access\n",
    "print(scores.values)\n",
    "print(scores.index, end=\"\\n\\n\")\n",
    "\n",
    "print(scores)\n",
    "print(scores[0])\n"
   ]
  },
  {
   "cell_type": "code",
   "execution_count": 17,
   "id": "03646679",
   "metadata": {},
   "outputs": [
    {
     "name": "stdout",
     "output_type": "stream",
     "text": [
      "a     70\n",
      "b     80\n",
      "me    90\n",
      "dtype: int64\n",
      "\n",
      "90\n",
      "90\n"
     ]
    },
    {
     "name": "stderr",
     "output_type": "stream",
     "text": [
      "C:\\Users\\lenovo\\AppData\\Local\\Temp\\ipykernel_820\\1741801110.py:5: FutureWarning: Series.__getitem__ treating keys as positions is deprecated. In a future version, integer keys will always be treated as labels (consistent with DataFrame behavior). To access a value by position, use `ser.iloc[pos]`\n",
      "  print(scores[2])\n"
     ]
    }
   ],
   "source": [
    "# set custom index\n",
    "scores = pd.Series([70,80,90], index=['a','b','me'])\n",
    "print(scores, end=\"\\n\\n\")\n",
    "\n",
    "print(scores[2])\n",
    "print(scores['me'])"
   ]
  },
  {
   "cell_type": "code",
   "execution_count": 19,
   "id": "614489aa",
   "metadata": {},
   "outputs": [
    {
     "name": "stdout",
     "output_type": "stream",
     "text": [
      "80.0\n",
      "\n",
      "b     80\n",
      "me    90\n",
      "dtype: int64\n",
      "\n",
      "a     75\n",
      "b     85\n",
      "me    95\n",
      "dtype: int64\n"
     ]
    }
   ],
   "source": [
    "#operations\n",
    "\n",
    "print(scores.mean(), end=\"\\n\\n\")\n",
    "print(scores[scores > 70], end=\"\\n\\n\")\n",
    "print(scores+5)"
   ]
  },
  {
   "cell_type": "code",
   "execution_count": 21,
   "id": "0d95d9fe",
   "metadata": {},
   "outputs": [
    {
     "name": "stdout",
     "output_type": "stream",
     "text": [
      "    Score\n",
      "a      70\n",
      "b      80\n",
      "me     90\n"
     ]
    }
   ],
   "source": [
    "# Convert Series to DataFrame Column\n",
    "df=pd.DataFrame({'Score':scores})\n",
    "print(df)"
   ]
  },
  {
   "cell_type": "markdown",
   "id": "78a9a6ea",
   "metadata": {},
   "source": [
    "✅ Task:"
   ]
  },
  {
   "cell_type": "code",
   "execution_count": 24,
   "id": "65170771",
   "metadata": {},
   "outputs": [
    {
     "name": "stdout",
     "output_type": "stream",
     "text": [
      "RangeIndex(start=0, stop=3, step=1)\n",
      "[20 30 40]\n",
      "30.0\n",
      "Series([], Name: Student Scores, dtype: int64)\n"
     ]
    }
   ],
   "source": [
    "# Create a Series of 3 students' scores\n",
    "# Print index, values, mean, and scores > 85\n",
    "\n",
    "\n",
    "studentScores = pd.Series([20,30,40], name='Student Scores')\n",
    "\n",
    "print(studentScores.index)\n",
    "print(studentScores.values)\n",
    "print(studentScores.mean())\n",
    "print(studentScores[studentScores > 85])"
   ]
  },
  {
   "cell_type": "code",
   "execution_count": null,
   "id": "1fdad725",
   "metadata": {},
   "outputs": [],
   "source": []
  }
 ],
 "metadata": {
  "kernelspec": {
   "display_name": "Python 3",
   "language": "python",
   "name": "python3"
  },
  "language_info": {
   "codemirror_mode": {
    "name": "ipython",
    "version": 3
   },
   "file_extension": ".py",
   "mimetype": "text/x-python",
   "name": "python",
   "nbconvert_exporter": "python",
   "pygments_lexer": "ipython3",
   "version": "3.13.3"
  }
 },
 "nbformat": 4,
 "nbformat_minor": 5
}

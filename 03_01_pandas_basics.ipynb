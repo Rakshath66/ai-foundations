{
 "cells": [
  {
   "cell_type": "markdown",
   "id": "0cf3191b",
   "metadata": {},
   "source": [
    "Series - (single column)"
   ]
  },
  {
   "cell_type": "code",
   "execution_count": 13,
   "id": "d4ca68e2",
   "metadata": {},
   "outputs": [
    {
     "name": "stdout",
     "output_type": "stream",
     "text": [
      "0     80\n",
      "1     90\n",
      "2    100\n",
      "Name: Math Scores, dtype: int64\n"
     ]
    }
   ],
   "source": [
    "#create series\n",
    "import pandas as pd\n",
    "\n",
    "scores = pd.Series([80,90,100], name = \"Math Scores\")\n",
    "print(scores)"
   ]
  },
  {
   "cell_type": "code",
   "execution_count": 14,
   "id": "fae7acf0",
   "metadata": {},
   "outputs": [
    {
     "name": "stdout",
     "output_type": "stream",
     "text": [
      "[ 80  90 100]\n",
      "RangeIndex(start=0, stop=3, step=1)\n",
      "\n",
      "0     80\n",
      "1     90\n",
      "2    100\n",
      "Name: Math Scores, dtype: int64\n",
      "80\n"
     ]
    }
   ],
   "source": [
    "# access\n",
    "print(scores.values)\n",
    "print(scores.index, end=\"\\n\\n\")\n",
    "\n",
    "print(scores)\n",
    "print(scores[0])\n"
   ]
  },
  {
   "cell_type": "code",
   "execution_count": 17,
   "id": "03646679",
   "metadata": {},
   "outputs": [
    {
     "name": "stdout",
     "output_type": "stream",
     "text": [
      "a     70\n",
      "b     80\n",
      "me    90\n",
      "dtype: int64\n",
      "\n",
      "90\n",
      "90\n"
     ]
    },
    {
     "name": "stderr",
     "output_type": "stream",
     "text": [
      "C:\\Users\\lenovo\\AppData\\Local\\Temp\\ipykernel_820\\1741801110.py:5: FutureWarning: Series.__getitem__ treating keys as positions is deprecated. In a future version, integer keys will always be treated as labels (consistent with DataFrame behavior). To access a value by position, use `ser.iloc[pos]`\n",
      "  print(scores[2])\n"
     ]
    }
   ],
   "source": [
    "# set custom index\n",
    "scores = pd.Series([70,80,90], index=['a','b','me'])\n",
    "print(scores, end=\"\\n\\n\")\n",
    "\n",
    "print(scores[2])\n",
    "print(scores['me'])"
   ]
  },
  {
   "cell_type": "code",
   "execution_count": null,
   "id": "614489aa",
   "metadata": {},
   "outputs": [
    {
     "name": "stdout",
     "output_type": "stream",
     "text": [
      "80.0\n",
      "b     80\n",
      "me    90\n",
      "dtype: int64\n",
      "a     75\n",
      "b     85\n",
      "me    95\n",
      "dtype: int64\n"
     ]
    }
   ],
   "source": [
    "#operations\n",
    "\n",
    "print(scores.mean(), end=\"\\n\\n\")\n",
    "print(scores[scores > 70], end=\"\\n\\n\")\n",
    "print(scores+5)"
   ]
  },
  {
   "cell_type": "code",
   "execution_count": null,
   "id": "0d95d9fe",
   "metadata": {},
   "outputs": [],
   "source": []
  }
 ],
 "metadata": {
  "kernelspec": {
   "display_name": "Python 3",
   "language": "python",
   "name": "python3"
  },
  "language_info": {
   "codemirror_mode": {
    "name": "ipython",
    "version": 3
   },
   "file_extension": ".py",
   "mimetype": "text/x-python",
   "name": "python",
   "nbconvert_exporter": "python",
   "pygments_lexer": "ipython3",
   "version": "3.13.3"
  }
 },
 "nbformat": 4,
 "nbformat_minor": 5
}

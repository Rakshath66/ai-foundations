{
 "cells": [
  {
   "cell_type": "markdown",
   "id": "6ad4ca56",
   "metadata": {},
   "source": [
    "📦 Phase 1.3: Pandas (DataFrames)\n",
    "🔍 Why it matters:\n",
    "Every real AI project uses CSV/Excel/tables as input.\n",
    "\n",
    "Pandas is your go-to for loading, cleaning, transforming, filtering data.\n",
    "\n",
    "Used in ML pipelines, LLM data prep, analytics, etc.\n",
    "\n",
    "✅ Core Concepts Checklist\n",
    "Concept\tWhy It Matters\n",
    "DataFrame, Series\tCore data types in Pandas\n",
    "read_csv(), to_csv()\tLoad/save datasets\n",
    "Column indexing, slicing\tAccess/modify columns/rows\n",
    "Filtering with conditions\tGet only the data you want\n",
    "isnull(), fillna(), dropna()\tClean missing data\n",
    "groupby(), agg()\tSummarize, analyze by category\n",
    "Merging & joining\tCombine multiple datasets\n",
    "Sorting, renaming, resetting index\tFinal cleanup before model"
   ]
  },
  {
   "cell_type": "code",
   "execution_count": 123,
   "id": "b6ba6978",
   "metadata": {},
   "outputs": [
    {
     "name": "stdout",
     "output_type": "stream",
     "text": [
      "       Name   Age  Score\n",
      "0    Nobita  12.0      0\n",
      "1  Doraemon  13.0     85\n",
      "2     Suneo   NaN     80\n"
     ]
    }
   ],
   "source": [
    "# Create or Load a Dataset\n",
    "import pandas as pd\n",
    "import numpy as np\n",
    "\n",
    "# data_1d = {[25, 30, 35]}\n",
    "\n",
    "# columns name, age, score\n",
    "data = {\n",
    "    'Name': ['Nobita', 'Doraemon', 'Suneo'],\n",
    "    'Age': [12, 13, np.nan],    # Use np.nan(specifically for numeric) instead of None\n",
    "    'Score': [0, 85, 80]\n",
    "}\n",
    "\n",
    "# data_null = {\n",
    "#     'Name': ['Nobita', 'NAN', 'Suneo'],\n",
    "#     'Age': [12, 13, None],\n",
    "#     'Score': [0, 85, 80]\n",
    "# }\n",
    "\n",
    "df = pd.DataFrame(data)\n",
    "print(df)"
   ]
  },
  {
   "cell_type": "code",
   "execution_count": 124,
   "id": "0d15c58c",
   "metadata": {},
   "outputs": [
    {
     "name": "stdout",
     "output_type": "stream",
     "text": [
      "0    12.0\n",
      "1    13.0\n",
      "2     NaN\n",
      "Name: Age, dtype: float64\n",
      "\n",
      "Index(['Name', 'Age', 'Score'], dtype='object')\n",
      "[['Nobita' 12.0 0]\n",
      " ['Doraemon' 13.0 85]\n",
      " ['Suneo' nan 80]]\n",
      "       Name  Score\n",
      "0    Nobita      0\n",
      "1  Doraemon     85\n",
      "2     Suneo     80\n",
      "\n",
      "Name     Nobita\n",
      "Age        12.0\n",
      "Score         0\n",
      "Name: 0, dtype: object\n",
      "       Name   Age  Score\n",
      "0    Nobita  12.0      0\n",
      "1  Doraemon  13.0     85\n",
      "Suneo\n",
      "0    12.0\n",
      "1    13.0\n",
      "2     NaN\n",
      "Name: Age, dtype: float64\n"
     ]
    }
   ],
   "source": [
    "# Accessing Data\n",
    "print(df['Age'], end=\"\\n\\n\")\n",
    "\n",
    "print(df.columns)\n",
    "print(df.values)\n",
    "\n",
    "print(df[['Name', 'Score']], end=\"\\n\\n\") #access multiple columns\n",
    "\n",
    "# iloc - integer location, loc - label based location\n",
    "print(df.iloc[0])            # first row \n",
    "print(df.iloc[0:2])          # First two rows\n",
    "print(df.loc[2, 'Name']) \n",
    "print(df.loc[:, 'Age'])      # slicing"
   ]
  },
  {
   "cell_type": "code",
   "execution_count": 125,
   "id": "1febd1fc",
   "metadata": {},
   "outputs": [
    {
     "name": "stdout",
     "output_type": "stream",
     "text": [
      "       Name   Age  Score\n",
      "1  Doraemon  13.0     85\n",
      "\n",
      "       Name   Age  Score\n",
      "1  Doraemon  13.0     85\n"
     ]
    }
   ],
   "source": [
    "# Filter data\n",
    "print(df[df['Age'] > 12], end=\"\\n\\n\")\n",
    "print(df[df['Age'] == 13]) # == None - not works"
   ]
  },
  {
   "cell_type": "code",
   "execution_count": 126,
   "id": "b83a69ad",
   "metadata": {},
   "outputs": [
    {
     "name": "stdout",
     "output_type": "stream",
     "text": [
      "Name     0\n",
      "Age      1\n",
      "Score    0\n",
      "dtype: int64\n",
      "       Name   Age  Score\n",
      "0    Nobita  12.0      0\n",
      "1  Doraemon  13.0     85\n",
      "       Name   Age  Score\n",
      "0    Nobita  12.0      0\n",
      "1  Doraemon  13.0     85\n",
      "2     Suneo   0.0     80\n"
     ]
    }
   ],
   "source": [
    "# Cleaning Missing Values\n",
    "print(df.isnull().sum()) #Count missing values\n",
    "\n",
    "print(df.dropna()) #Removes rows with NAN\n",
    "print(df.fillna(0)) #Fills NAN's with 0s\n"
   ]
  },
  {
   "cell_type": "code",
   "execution_count": 127,
   "id": "4322171c",
   "metadata": {},
   "outputs": [
    {
     "name": "stdout",
     "output_type": "stream",
     "text": [
      "        Age\n",
      "Score      \n",
      "0      12.0\n",
      "80      NaN\n",
      "85     13.0\n",
      "\n",
      "        Age\n",
      "Score      \n",
      "0      12.0\n",
      "80      NaN\n",
      "85     13.0\n",
      "\n",
      "          Score   Age\n",
      "Name                 \n",
      "Doraemon   92.5  20.0\n",
      "Nobita      0.0  12.0\n",
      "Suneo      80.0   NaN\n",
      "\n",
      "         Score   Age\n",
      "min       0.00   NaN\n",
      "max     100.00   NaN\n",
      "mean     66.25   NaN\n",
      "median     NaN  13.0\n"
     ]
    }
   ],
   "source": [
    "# Grouping & Aggregation\n",
    "# df.groupby('Score').mean(numeric_only=True) - not possible, because grouping by score, but taking mean of non numeric like 'Name', so use numeric only - name column will be ignored\n",
    "print(df.groupby('Score').mean(numeric_only=True), end=\"\\n\\n\")    # Group by Age, get mean Score\n",
    "\n",
    "print(df.groupby('Score')[['Age']].mean(), end='\\n\\n') #Drops non numeric like 'Name' columns and 'Age'(manually mentioned) skips nan for 'Age -> calculates group-wise mean for Age \n",
    "\n",
    "df.loc[len(df)] = ['Doraemon',20,100]\n",
    "print(df.groupby('Name').agg({\n",
    "    'Score': 'mean',          #missing value should be np.nan (numeric), None is python object\n",
    "    'Age': 'max'              #max required numeric type\n",
    "}), end='\\n\\n')\n",
    "\n",
    "print(\n",
    "    df.agg({\n",
    "    'Score': ['min', 'max', 'mean'],\n",
    "    'Age': 'median'\n",
    "})\n",
    ")"
   ]
  },
  {
   "cell_type": "code",
   "execution_count": 128,
   "id": "e33fdd0a",
   "metadata": {},
   "outputs": [
    {
     "name": "stdout",
     "output_type": "stream",
     "text": [
      "   ID Name  Score\n",
      "0   1    A     90\n",
      "1   2    B     80\n"
     ]
    }
   ],
   "source": [
    "# Merging Datasets\n",
    "df1 = pd.DataFrame({'ID': [1,2], 'Name': ['A','B']})\n",
    "df2 = pd.DataFrame({'ID': [1,2], 'Score': [90,80]})\n",
    "df3 = pd.DataFrame({'ID1': [1,2], 'Score': [90,80]})\n",
    "\n",
    "merged = pd.merge(df1, df2, on='ID') # without on operator - default merges on ID\n",
    "print(merged)"
   ]
  },
  {
   "cell_type": "code",
   "execution_count": 129,
   "id": "21c83e2f",
   "metadata": {},
   "outputs": [
    {
     "name": "stdout",
     "output_type": "stream",
     "text": [
      "Index(['ID', 'Name'], dtype='object')\n",
      "Index(['ID1', 'Score'], dtype='object')\n",
      "   Name  Score\n",
      "ID            \n",
      "1     A     90\n",
      "2     B     80\n",
      "   Name  ID1\n",
      "ID          \n",
      "1     A  NaN\n",
      "2     B  NaN\n"
     ]
    }
   ],
   "source": [
    "# Joining by index\n",
    "print(df1.columns)\n",
    "print(df3.columns)\n",
    "\n",
    "# if there is matching columns, join that otherwise error\n",
    "# if there is no matching column, on joining makes second df nan values\n",
    "\n",
    "df1 = df1.set_index('ID')\n",
    "df2 = df2.set_index('ID')\n",
    "df3 = df3.set_index('Score')\n",
    "\n",
    "joined = df1.join(df2) #JOINING OF ID, ID, here name, score not possible -> beacuse id is common so breaks\n",
    "print(joined)\n",
    "joined1 = df1.join(df3) # joining of name, score without common columns - GIVE NAN FOR 2ND DATAFRAME\n",
    "print(joined1)\n"
   ]
  },
  {
   "cell_type": "markdown",
   "id": "f7c9c85f",
   "metadata": {},
   "source": [
    "ADVANCED"
   ]
  },
  {
   "cell_type": "code",
   "execution_count": 130,
   "id": "11dfa502",
   "metadata": {},
   "outputs": [
    {
     "name": "stdout",
     "output_type": "stream",
     "text": [
      "       Name   Age  Score\n",
      "0    Nobita  12.0      0\n",
      "1  Doraemon  13.0     85\n",
      "2     Suneo   NaN     80\n",
      "3  Doraemon  20.0    100\n"
     ]
    }
   ],
   "source": [
    "#Save to CSV\n",
    "print(df)\n",
    "df.to_csv(\"studentsfinal.csv\", index=False) #  to avoid writing row numbers as a column"
   ]
  },
  {
   "cell_type": "code",
   "execution_count": 132,
   "id": "ea67409d",
   "metadata": {},
   "outputs": [
    {
     "name": "stdout",
     "output_type": "stream",
     "text": [
      "       Name   Age  Score\n",
      "0    Nobita  12.0      0\n",
      "1  Doraemon  13.0     85\n",
      "2     Suneo   NaN     80\n",
      "3  Doraemon  20.0    100\n",
      "\n",
      "       Name   Age  Score\n",
      "3  Doraemon  20.0    100\n",
      "1  Doraemon  13.0     85\n",
      "2     Suneo   NaN     80\n",
      "0    Nobita  12.0      0\n",
      "\n"
     ]
    },
    {
     "data": {
      "text/html": [
       "<div>\n",
       "<style scoped>\n",
       "    .dataframe tbody tr th:only-of-type {\n",
       "        vertical-align: middle;\n",
       "    }\n",
       "\n",
       "    .dataframe tbody tr th {\n",
       "        vertical-align: top;\n",
       "    }\n",
       "\n",
       "    .dataframe thead th {\n",
       "        text-align: right;\n",
       "    }\n",
       "</style>\n",
       "<table border=\"1\" class=\"dataframe\">\n",
       "  <thead>\n",
       "    <tr style=\"text-align: right;\">\n",
       "      <th></th>\n",
       "      <th>Name</th>\n",
       "      <th>Age</th>\n",
       "      <th>Score</th>\n",
       "    </tr>\n",
       "  </thead>\n",
       "  <tbody>\n",
       "    <tr>\n",
       "      <th>0</th>\n",
       "      <td>Nobita</td>\n",
       "      <td>12.0</td>\n",
       "      <td>0</td>\n",
       "    </tr>\n",
       "    <tr>\n",
       "      <th>1</th>\n",
       "      <td>Doraemon</td>\n",
       "      <td>13.0</td>\n",
       "      <td>85</td>\n",
       "    </tr>\n",
       "    <tr>\n",
       "      <th>2</th>\n",
       "      <td>Suneo</td>\n",
       "      <td>NaN</td>\n",
       "      <td>80</td>\n",
       "    </tr>\n",
       "    <tr>\n",
       "      <th>3</th>\n",
       "      <td>Doraemon</td>\n",
       "      <td>20.0</td>\n",
       "      <td>100</td>\n",
       "    </tr>\n",
       "  </tbody>\n",
       "</table>\n",
       "</div>"
      ],
      "text/plain": [
       "       Name   Age  Score\n",
       "0    Nobita  12.0      0\n",
       "1  Doraemon  13.0     85\n",
       "2     Suneo   NaN     80\n",
       "3  Doraemon  20.0    100"
      ]
     },
     "execution_count": 132,
     "metadata": {},
     "output_type": "execute_result"
    }
   ],
   "source": [
    "#sort\n",
    "print(df, end='\\n\\n')\n",
    "\n",
    "print(df.sort_values(by='Score',ascending=False), end='\\n\\n')\n",
    "df.sort_index() #sort by row index"
   ]
  },
  {
   "cell_type": "code",
   "execution_count": 133,
   "id": "4d59c8e7",
   "metadata": {},
   "outputs": [
    {
     "data": {
      "text/html": [
       "<div>\n",
       "<style scoped>\n",
       "    .dataframe tbody tr th:only-of-type {\n",
       "        vertical-align: middle;\n",
       "    }\n",
       "\n",
       "    .dataframe tbody tr th {\n",
       "        vertical-align: top;\n",
       "    }\n",
       "\n",
       "    .dataframe thead th {\n",
       "        text-align: right;\n",
       "    }\n",
       "</style>\n",
       "<table border=\"1\" class=\"dataframe\">\n",
       "  <thead>\n",
       "    <tr style=\"text-align: right;\">\n",
       "      <th></th>\n",
       "      <th>StudentName</th>\n",
       "      <th>Age</th>\n",
       "      <th>Marks</th>\n",
       "    </tr>\n",
       "  </thead>\n",
       "  <tbody>\n",
       "    <tr>\n",
       "      <th>0</th>\n",
       "      <td>Nobita</td>\n",
       "      <td>12.0</td>\n",
       "      <td>0</td>\n",
       "    </tr>\n",
       "    <tr>\n",
       "      <th>1</th>\n",
       "      <td>Doraemon</td>\n",
       "      <td>13.0</td>\n",
       "      <td>85</td>\n",
       "    </tr>\n",
       "    <tr>\n",
       "      <th>2</th>\n",
       "      <td>Suneo</td>\n",
       "      <td>NaN</td>\n",
       "      <td>80</td>\n",
       "    </tr>\n",
       "    <tr>\n",
       "      <th>3</th>\n",
       "      <td>Doraemon</td>\n",
       "      <td>20.0</td>\n",
       "      <td>100</td>\n",
       "    </tr>\n",
       "  </tbody>\n",
       "</table>\n",
       "</div>"
      ],
      "text/plain": [
       "  StudentName   Age  Marks\n",
       "0      Nobita  12.0      0\n",
       "1    Doraemon  13.0     85\n",
       "2       Suneo   NaN     80\n",
       "3    Doraemon  20.0    100"
      ]
     },
     "execution_count": 133,
     "metadata": {},
     "output_type": "execute_result"
    }
   ],
   "source": [
    "#rename\n",
    "df.rename(columns={'Name':'StudentName', 'Score':'Marks'})"
   ]
  },
  {
   "cell_type": "code",
   "execution_count": 140,
   "id": "46f01976",
   "metadata": {},
   "outputs": [
    {
     "name": "stdout",
     "output_type": "stream",
     "text": [
      "       Name   Age  Score\n",
      "3  Doraemon  20.0    100\n",
      "1  Doraemon  13.0     85\n",
      "2     Suneo   NaN     80\n",
      "0    Nobita  12.0      0\n",
      "\n"
     ]
    },
    {
     "data": {
      "text/html": [
       "<div>\n",
       "<style scoped>\n",
       "    .dataframe tbody tr th:only-of-type {\n",
       "        vertical-align: middle;\n",
       "    }\n",
       "\n",
       "    .dataframe tbody tr th {\n",
       "        vertical-align: top;\n",
       "    }\n",
       "\n",
       "    .dataframe thead th {\n",
       "        text-align: right;\n",
       "    }\n",
       "</style>\n",
       "<table border=\"1\" class=\"dataframe\">\n",
       "  <thead>\n",
       "    <tr style=\"text-align: right;\">\n",
       "      <th></th>\n",
       "      <th>Name</th>\n",
       "      <th>Age</th>\n",
       "      <th>Score</th>\n",
       "    </tr>\n",
       "  </thead>\n",
       "  <tbody>\n",
       "    <tr>\n",
       "      <th>0</th>\n",
       "      <td>Doraemon</td>\n",
       "      <td>20.0</td>\n",
       "      <td>100</td>\n",
       "    </tr>\n",
       "    <tr>\n",
       "      <th>1</th>\n",
       "      <td>Doraemon</td>\n",
       "      <td>13.0</td>\n",
       "      <td>85</td>\n",
       "    </tr>\n",
       "    <tr>\n",
       "      <th>2</th>\n",
       "      <td>Suneo</td>\n",
       "      <td>NaN</td>\n",
       "      <td>80</td>\n",
       "    </tr>\n",
       "    <tr>\n",
       "      <th>3</th>\n",
       "      <td>Nobita</td>\n",
       "      <td>12.0</td>\n",
       "      <td>0</td>\n",
       "    </tr>\n",
       "  </tbody>\n",
       "</table>\n",
       "</div>"
      ],
      "text/plain": [
       "       Name   Age  Score\n",
       "0  Doraemon  20.0    100\n",
       "1  Doraemon  13.0     85\n",
       "2     Suneo   NaN     80\n",
       "3    Nobita  12.0      0"
      ]
     },
     "execution_count": 140,
     "metadata": {},
     "output_type": "execute_result"
    }
   ],
   "source": [
    "#reset index - sort according to me, then reset\n",
    "\n",
    "df = df.sort_values(by='Score',ascending=False)\n",
    "print(df, end='\\n\\n')\n",
    "df.reset_index(drop=True)"
   ]
  },
  {
   "cell_type": "markdown",
   "id": "ad2e0b46",
   "metadata": {},
   "source": []
  },
  {
   "cell_type": "markdown",
   "id": "31ec7cc2",
   "metadata": {},
   "source": [
    "💡 Mini Project Idea: \"Top Students\"\n",
    "Load a CSV of students (Name, Marks, Attendance)\n",
    "\n",
    "Filter: Attendance > 75%\n",
    "\n",
    "Show top 2 scorers\n",
    "\n",
    "Save filtered data to CSV"
   ]
  },
  {
   "cell_type": "code",
   "execution_count": 35,
   "id": "d0e0c49a",
   "metadata": {},
   "outputs": [
    {
     "name": "stdout",
     "output_type": "stream",
     "text": [
      "           Name  Marks  Attendance\n",
      "0  Chhota Bheem    100          90\n",
      "1          Raju     90          95\n",
      "2        Chutki     80         100\n",
      "3         Jaggu     89          98\n",
      "\n",
      "           Name  Marks  Attendance\n",
      "0  Chhota Bheem    100          90\n",
      "1          Raju     90          95\n",
      "2        Chutki     80         100\n",
      "3         Jaggu     89          98\n",
      "\n",
      "           Name  Marks  Attendance\n",
      "0  Chhota Bheem    100          90\n",
      "1          Raju     90          95\n",
      "     Name  Marks  Attendance\n",
      "2  Chutki     80         100\n",
      "3   Jaggu     89          98\n",
      "\n",
      "           Name  Marks  Attendance\n",
      "0  Chhota Bheem    100          90\n",
      "1          Raju     90          95\n",
      "\n"
     ]
    },
    {
     "data": {
      "text/plain": [
       "(2, 3)"
      ]
     },
     "execution_count": 35,
     "metadata": {},
     "output_type": "execute_result"
    }
   ],
   "source": [
    "import pandas as pd\n",
    "\n",
    "# df = pd.DataFrame({\n",
    "#     'Name': ['Chhota Bheem', 'Raju', 'Chutki', 'Jaggu'],\n",
    "#     'Marks': [100, 90, 80, 89],\n",
    "#     'Attendance': [90, 95, 100, 98]\n",
    "# })\n",
    "\n",
    "# df.to_csv(\"student_attendance.csv\", index=False)\n",
    "\n",
    "df = pd.read_csv(\"student_attendance.csv\")\n",
    "print(df, end=\"\\n\\n\")\n",
    "\n",
    "#filter\n",
    "df = df[df['Attendance'] > 75]\n",
    "print(df, end=\"\\n\\n\")\n",
    "\n",
    "print(df.head(2))\n",
    "print(df.tail(2), end=\"\\n\\n\")\n",
    "\n",
    "#top 5 performers\n",
    "df = df.sort_values(by='Marks', ascending=False).head(2)\n",
    "print(df, end=\"\\n\\n\")\n",
    "\n",
    "#filtered student attendance\n",
    "df.to_csv(\"filtered_student_attendance.csv\")\n",
    "\n",
    "df.shape"
   ]
  },
  {
   "cell_type": "markdown",
   "id": "b20db92f",
   "metadata": {},
   "source": [
    "🧪 Mini Task:\n",
    "Add a new student to your current DataFrame\n",
    "\n",
    "Re-print the updated table"
   ]
  },
  {
   "cell_type": "code",
   "execution_count": 39,
   "id": "b1e141ab",
   "metadata": {},
   "outputs": [
    {
     "name": "stdout",
     "output_type": "stream",
     "text": [
      "       Name  Scores\n",
      "0  Doraemon      85\n",
      "1    Nobita      90\n",
      "\n",
      "       Name  Scores\n",
      "0  Doraemon      85\n",
      "1    Nobita      90\n",
      "2     Suneo      70\n",
      "\n",
      "       Name  Scores\n",
      "0  Doraemon      85\n",
      "1    Nobita      90\n",
      "2     Suneo      70\n",
      "3      Gian      55\n",
      "\n",
      "         Name  Scores\n",
      "0.0  Doraemon      85\n",
      "1.0    Nobita      90\n",
      "2.0     Suneo      70\n",
      "3.0      Gian      55\n",
      "2.5    Suzuka      60\n",
      "       Name  Scores\n",
      "0  Doraemon      85\n",
      "1    Nobita      90\n",
      "2     Suneo      70\n",
      "3    Suzuka      60\n",
      "4      Gian      55\n"
     ]
    }
   ],
   "source": [
    "import pandas as pd\n",
    "df = pd.DataFrame({\n",
    "    'Name': ['Doraemon', 'Nobita'],\n",
    "    'Scores': [85,90]\n",
    "})\n",
    "\n",
    "print(df, end=\"\\n\\n\")\n",
    "\n",
    "#method 1\n",
    "df.loc[len(df)] = ['Suneo', 70]\n",
    "print(df, end=\"\\n\\n\")\n",
    "\n",
    "#method 2 - concat\n",
    "new_row = {'Name': 'Gian', 'Scores': 55}\n",
    "df = pd.concat([df, pd.DataFrame([new_row])], ignore_index=True)\n",
    "print(df, end=\"\\n\\n\")\n",
    "\n",
    "#method 3 - insert at required position\n",
    "df.loc[2.5] = ['Suzuka', 60]\n",
    "print(df)\n",
    "df = df.sort_index().reset_index(drop=True)\n",
    "print(df)"
   ]
  },
  {
   "cell_type": "markdown",
   "id": "7b28d0fe",
   "metadata": {},
   "source": [
    "1. unique value per column\n",
    "2. random n rows\n",
    "3. column info, nulls, datatypes\n",
    "4. summary status(mean, std, etc)\n",
    "5. shaoe, dtypes"
   ]
  },
  {
   "cell_type": "code",
   "execution_count": 48,
   "id": "544eeae1",
   "metadata": {},
   "outputs": [
    {
     "name": "stdout",
     "output_type": "stream",
     "text": [
      "       Name  Scores\n",
      "0  Doraemon      85\n",
      "1    Nobita      90\n",
      "2     Suneo      70\n",
      "3    Suzuka      60\n",
      "4      Gian      55 \n",
      "\n",
      "\n",
      "Name      5\n",
      "Scores    5\n",
      "dtype: int64 \n",
      "\n",
      "\n",
      "     Name  Scores\n",
      "2   Suneo      70\n",
      "3  Suzuka      60 \n",
      "\n",
      "\n",
      "<class 'pandas.core.series.Series'>\n",
      "RangeIndex: 5 entries, 0 to 4\n",
      "Series name: Name\n",
      "Non-Null Count  Dtype \n",
      "--------------  ----- \n",
      "5 non-null      object\n",
      "dtypes: object(1)\n",
      "memory usage: 172.0+ bytes\n",
      "None \n",
      "\n",
      "\n",
      "          Scores\n",
      "count   5.000000\n",
      "mean   72.000000\n",
      "std    15.247951\n",
      "min    55.000000\n",
      "25%    60.000000\n",
      "50%    70.000000\n",
      "75%    85.000000\n",
      "max    90.000000 \n",
      "\n",
      "\n",
      "(5, 2)\n",
      "Name      object\n",
      "Scores     int64\n",
      "dtype: object\n"
     ]
    }
   ],
   "source": [
    "#unique\n",
    "print(df, \"\\n\\n\")\n",
    "print(df.nunique(), \"\\n\\n\")\n",
    "\n",
    "#random n rows\n",
    "print(df.sample(2), \"\\n\\n\")\n",
    "\n",
    "#column info\n",
    "print(df['Name'].info(), \"\\n\\n\")\n",
    "\n",
    "#summary\n",
    "print(df.describe(), \"\\n\\n\")\n",
    "\n",
    "#shape, dtype\n",
    "print(df.shape)\n",
    "print(df.dtypes)"
   ]
  },
  {
   "cell_type": "code",
   "execution_count": null,
   "id": "b99aaeec",
   "metadata": {},
   "outputs": [],
   "source": []
  }
 ],
 "metadata": {
  "kernelspec": {
   "display_name": "Python 3",
   "language": "python",
   "name": "python3"
  },
  "language_info": {
   "codemirror_mode": {
    "name": "ipython",
    "version": 3
   },
   "file_extension": ".py",
   "mimetype": "text/x-python",
   "name": "python",
   "nbconvert_exporter": "python",
   "pygments_lexer": "ipython3",
   "version": "3.13.3"
  }
 },
 "nbformat": 4,
 "nbformat_minor": 5
}

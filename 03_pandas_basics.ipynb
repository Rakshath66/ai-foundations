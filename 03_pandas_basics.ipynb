{
 "cells": [
  {
   "cell_type": "markdown",
   "id": "6ad4ca56",
   "metadata": {},
   "source": [
    "📦 Phase 1.3: Pandas (DataFrames)\n",
    "🔍 Why it matters:\n",
    "Every real AI project uses CSV/Excel/tables as input.\n",
    "\n",
    "Pandas is your go-to for loading, cleaning, transforming, filtering data.\n",
    "\n",
    "Used in ML pipelines, LLM data prep, analytics, etc.\n",
    "\n",
    "✅ Core Concepts Checklist\n",
    "Concept\tWhy It Matters\n",
    "DataFrame, Series\tCore data types in Pandas\n",
    "read_csv(), to_csv()\tLoad/save datasets\n",
    "Column indexing, slicing\tAccess/modify columns/rows\n",
    "Filtering with conditions\tGet only the data you want\n",
    "isnull(), fillna(), dropna()\tClean missing data\n",
    "groupby(), agg()\tSummarize, analyze by category\n",
    "Merging & joining\tCombine multiple datasets\n",
    "Sorting, renaming, resetting index\tFinal cleanup before model"
   ]
  },
  {
   "cell_type": "code",
   "execution_count": 54,
   "id": "b6ba6978",
   "metadata": {},
   "outputs": [
    {
     "name": "stdout",
     "output_type": "stream",
     "text": [
      "       Name   Age  Score\n",
      "0    Nobita  12.0      0\n",
      "1  Doraemon  13.0     85\n",
      "2     Suneo   NaN     80\n"
     ]
    }
   ],
   "source": [
    "# Create or Load a Dataset\n",
    "import pandas as pd\n",
    "import numpy as np\n",
    "\n",
    "# data_1d = {[25, 30, 35]}\n",
    "\n",
    "# columns name, age, score\n",
    "data = {\n",
    "    'Name': ['Nobita', 'Doraemon', 'Suneo'],\n",
    "    'Age': [12, 13, np.nan],    # Use np.nan(specifically for numeric) instead of None\n",
    "    'Score': [0, 85, 80]\n",
    "}\n",
    "\n",
    "# data_null = {\n",
    "#     'Name': ['Nobita', 'NAN', 'Suneo'],\n",
    "#     'Age': [12, 13, None],\n",
    "#     'Score': [0, 85, 80]\n",
    "# }\n",
    "\n",
    "df = pd.DataFrame(data)\n",
    "print(df)"
   ]
  },
  {
   "cell_type": "code",
   "execution_count": null,
   "id": "0d15c58c",
   "metadata": {},
   "outputs": [
    {
     "name": "stdout",
     "output_type": "stream",
     "text": [
      "0    12.0\n",
      "1    13.0\n",
      "2     NaN\n",
      "Name: Age, dtype: float64\n",
      "\n",
      "       Name  Score\n",
      "0    Nobita      0\n",
      "1  Doraemon     85\n",
      "2     Suneo     80\n",
      "\n",
      "Name     Nobita\n",
      "Age        12.0\n",
      "Score         0\n",
      "Name: 0, dtype: object\n",
      "Suneo\n",
      "0    12.0\n",
      "1    13.0\n",
      "2     NaN\n",
      "Name: Age, dtype: float64\n"
     ]
    }
   ],
   "source": [
    "# Accessing Data\n",
    "print(df['Age'], end=\"\\n\\n\")\n",
    "\n",
    "print(df[['Name', 'Score']], end=\"\\n\\n\") #access multiple columns\n",
    "\n",
    "# iloc - integer location, loc - label based location\n",
    "print(df.iloc[0])            # first row \n",
    "print(df.iloc[0:2])          # First two rows\n",
    "print(df.loc[2, 'Name']) \n",
    "print(df.loc[:, 'Age'])      # slicing"
   ]
  },
  {
   "cell_type": "code",
   "execution_count": 56,
   "id": "1febd1fc",
   "metadata": {},
   "outputs": [
    {
     "name": "stdout",
     "output_type": "stream",
     "text": [
      "       Name   Age  Score\n",
      "1  Doraemon  13.0     85\n",
      "\n",
      "       Name   Age  Score\n",
      "1  Doraemon  13.0     85\n"
     ]
    }
   ],
   "source": [
    "# Filter data\n",
    "print(df[df['Age'] > 12], end=\"\\n\\n\")\n",
    "print(df[df['Age'] == 13]) # == None - not works"
   ]
  },
  {
   "cell_type": "code",
   "execution_count": 57,
   "id": "b83a69ad",
   "metadata": {},
   "outputs": [
    {
     "name": "stdout",
     "output_type": "stream",
     "text": [
      "Name     0\n",
      "Age      1\n",
      "Score    0\n",
      "dtype: int64\n",
      "       Name   Age  Score\n",
      "0    Nobita  12.0      0\n",
      "1  Doraemon  13.0     85\n",
      "       Name   Age  Score\n",
      "0    Nobita  12.0      0\n",
      "1  Doraemon  13.0     85\n",
      "2     Suneo   0.0     80\n"
     ]
    }
   ],
   "source": [
    "# Cleaning Missing Values\n",
    "print(df.isnull().sum()) #Count missing values\n",
    "\n",
    "print(df.dropna()) #Removes rows with NAN\n",
    "print(df.fillna(0)) #Fills NAN's with 0s\n"
   ]
  },
  {
   "cell_type": "code",
   "execution_count": null,
   "id": "4322171c",
   "metadata": {},
   "outputs": [
    {
     "name": "stdout",
     "output_type": "stream",
     "text": [
      "        Age\n",
      "Score      \n",
      "0      12.0\n",
      "80      NaN\n",
      "85     13.0\n",
      "100    20.0\n",
      "\n",
      "        Age\n",
      "Score      \n",
      "0      12.0\n",
      "80      NaN\n",
      "85     13.0\n",
      "100    20.0\n",
      "\n",
      "          Score   Age\n",
      "Name                 \n",
      "Doraemon   97.5  20.0\n",
      "Nobita      0.0  12.0\n",
      "Suneo      80.0   NaN\n"
     ]
    }
   ],
   "source": [
    "# Grouping & Aggregation\n",
    "# df.groupby('Score').mean(numeric_only=True) - not possible, because grouping by score, but taking mean of non numeric like 'Name', so use numeric only - name column will be ignored\n",
    "print(df.groupby('Score').mean(numeric_only=True), end=\"\\n\\n\")    # Group by Age, get mean Score\n",
    "\n",
    "print(df.groupby('Score')[['Age']].mean(), end='\\n\\n') #Drops non numeric like 'Name' columns and 'Age'(manually mentioned) skips nan for 'Age -> calculates group-wise mean for Age \n",
    "\n",
    "df.loc[len(df)] = ['Doraemon',20,100]\n",
    "print(df.groupby('Name').agg({\n",
    "    'Score': 'mean',          #missing value should be np.nan (numeric), None is python object\n",
    "    'Age': 'max'              #max required numeric type\n",
    "}))"
   ]
  },
  {
   "cell_type": "code",
   "execution_count": null,
   "id": "e33fdd0a",
   "metadata": {},
   "outputs": [
    {
     "name": "stdout",
     "output_type": "stream",
     "text": [
      "   ID Name  Score\n",
      "0   1    A     90\n",
      "1   2    B     80\n"
     ]
    }
   ],
   "source": [
    "# Merging Datasets\n",
    "df1 = pd.DataFrame({'ID': [1,2], 'Name': ['A','B']})\n",
    "df2 = pd.DataFrame({'ID': [1,2], 'Score': [90,80]})\n",
    "\n",
    "merged = pd.merge(df1, df2, on='ID') # without on operator - default merges on ID\n",
    "print(merged)"
   ]
  },
  {
   "cell_type": "code",
   "execution_count": null,
   "id": "21c83e2f",
   "metadata": {},
   "outputs": [],
   "source": []
  }
 ],
 "metadata": {
  "kernelspec": {
   "display_name": "Python 3",
   "language": "python",
   "name": "python3"
  },
  "language_info": {
   "codemirror_mode": {
    "name": "ipython",
    "version": 3
   },
   "file_extension": ".py",
   "mimetype": "text/x-python",
   "name": "python",
   "nbconvert_exporter": "python",
   "pygments_lexer": "ipython3",
   "version": "3.13.3"
  }
 },
 "nbformat": 4,
 "nbformat_minor": 5
}

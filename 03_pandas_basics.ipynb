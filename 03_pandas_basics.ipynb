{
 "cells": [
  {
   "cell_type": "markdown",
   "id": "6ad4ca56",
   "metadata": {},
   "source": [
    "📦 Phase 1.3: Pandas (DataFrames)\n",
    "🔍 Why it matters:\n",
    "Every real AI project uses CSV/Excel/tables as input.\n",
    "\n",
    "Pandas is your go-to for loading, cleaning, transforming, filtering data.\n",
    "\n",
    "Used in ML pipelines, LLM data prep, analytics, etc.\n",
    "\n",
    "✅ Core Concepts Checklist\n",
    "Concept\tWhy It Matters\n",
    "DataFrame, Series\tCore data types in Pandas\n",
    "read_csv(), to_csv()\tLoad/save datasets\n",
    "Column indexing, slicing\tAccess/modify columns/rows\n",
    "Filtering with conditions\tGet only the data you want\n",
    "isnull(), fillna(), dropna()\tClean missing data\n",
    "groupby(), agg()\tSummarize, analyze by category\n",
    "Merging & joining\tCombine multiple datasets\n",
    "Sorting, renaming, resetting index\tFinal cleanup before model"
   ]
  },
  {
   "cell_type": "code",
   "execution_count": 123,
   "id": "b6ba6978",
   "metadata": {},
   "outputs": [
    {
     "name": "stdout",
     "output_type": "stream",
     "text": [
      "       Name   Age  Score\n",
      "0    Nobita  12.0      0\n",
      "1  Doraemon  13.0     85\n",
      "2     Suneo   NaN     80\n"
     ]
    }
   ],
   "source": [
    "# Create or Load a Dataset\n",
    "import pandas as pd\n",
    "import numpy as np\n",
    "\n",
    "# data_1d = {[25, 30, 35]}\n",
    "\n",
    "# columns name, age, score\n",
    "data = {\n",
    "    'Name': ['Nobita', 'Doraemon', 'Suneo'],\n",
    "    'Age': [12, 13, np.nan],    # Use np.nan(specifically for numeric) instead of None\n",
    "    'Score': [0, 85, 80]\n",
    "}\n",
    "\n",
    "# data_null = {\n",
    "#     'Name': ['Nobita', 'NAN', 'Suneo'],\n",
    "#     'Age': [12, 13, None],\n",
    "#     'Score': [0, 85, 80]\n",
    "# }\n",
    "\n",
    "df = pd.DataFrame(data)\n",
    "print(df)"
   ]
  },
  {
   "cell_type": "code",
   "execution_count": 124,
   "id": "0d15c58c",
   "metadata": {},
   "outputs": [
    {
     "name": "stdout",
     "output_type": "stream",
     "text": [
      "0    12.0\n",
      "1    13.0\n",
      "2     NaN\n",
      "Name: Age, dtype: float64\n",
      "\n",
      "Index(['Name', 'Age', 'Score'], dtype='object')\n",
      "[['Nobita' 12.0 0]\n",
      " ['Doraemon' 13.0 85]\n",
      " ['Suneo' nan 80]]\n",
      "       Name  Score\n",
      "0    Nobita      0\n",
      "1  Doraemon     85\n",
      "2     Suneo     80\n",
      "\n",
      "Name     Nobita\n",
      "Age        12.0\n",
      "Score         0\n",
      "Name: 0, dtype: object\n",
      "       Name   Age  Score\n",
      "0    Nobita  12.0      0\n",
      "1  Doraemon  13.0     85\n",
      "Suneo\n",
      "0    12.0\n",
      "1    13.0\n",
      "2     NaN\n",
      "Name: Age, dtype: float64\n"
     ]
    }
   ],
   "source": [
    "# Accessing Data\n",
    "print(df['Age'], end=\"\\n\\n\")\n",
    "\n",
    "print(df.columns)\n",
    "print(df.values)\n",
    "\n",
    "print(df[['Name', 'Score']], end=\"\\n\\n\") #access multiple columns\n",
    "\n",
    "# iloc - integer location, loc - label based location\n",
    "print(df.iloc[0])            # first row \n",
    "print(df.iloc[0:2])          # First two rows\n",
    "print(df.loc[2, 'Name']) \n",
    "print(df.loc[:, 'Age'])      # slicing"
   ]
  },
  {
   "cell_type": "code",
   "execution_count": 125,
   "id": "1febd1fc",
   "metadata": {},
   "outputs": [
    {
     "name": "stdout",
     "output_type": "stream",
     "text": [
      "       Name   Age  Score\n",
      "1  Doraemon  13.0     85\n",
      "\n",
      "       Name   Age  Score\n",
      "1  Doraemon  13.0     85\n"
     ]
    }
   ],
   "source": [
    "# Filter data\n",
    "print(df[df['Age'] > 12], end=\"\\n\\n\")\n",
    "print(df[df['Age'] == 13]) # == None - not works"
   ]
  },
  {
   "cell_type": "code",
   "execution_count": 126,
   "id": "b83a69ad",
   "metadata": {},
   "outputs": [
    {
     "name": "stdout",
     "output_type": "stream",
     "text": [
      "Name     0\n",
      "Age      1\n",
      "Score    0\n",
      "dtype: int64\n",
      "       Name   Age  Score\n",
      "0    Nobita  12.0      0\n",
      "1  Doraemon  13.0     85\n",
      "       Name   Age  Score\n",
      "0    Nobita  12.0      0\n",
      "1  Doraemon  13.0     85\n",
      "2     Suneo   0.0     80\n"
     ]
    }
   ],
   "source": [
    "# Cleaning Missing Values\n",
    "print(df.isnull().sum()) #Count missing values\n",
    "\n",
    "print(df.dropna()) #Removes rows with NAN\n",
    "print(df.fillna(0)) #Fills NAN's with 0s\n"
   ]
  },
  {
   "cell_type": "code",
   "execution_count": 127,
   "id": "4322171c",
   "metadata": {},
   "outputs": [
    {
     "name": "stdout",
     "output_type": "stream",
     "text": [
      "        Age\n",
      "Score      \n",
      "0      12.0\n",
      "80      NaN\n",
      "85     13.0\n",
      "\n",
      "        Age\n",
      "Score      \n",
      "0      12.0\n",
      "80      NaN\n",
      "85     13.0\n",
      "\n",
      "          Score   Age\n",
      "Name                 \n",
      "Doraemon   92.5  20.0\n",
      "Nobita      0.0  12.0\n",
      "Suneo      80.0   NaN\n",
      "\n",
      "         Score   Age\n",
      "min       0.00   NaN\n",
      "max     100.00   NaN\n",
      "mean     66.25   NaN\n",
      "median     NaN  13.0\n"
     ]
    }
   ],
   "source": [
    "# Grouping & Aggregation\n",
    "# df.groupby('Score').mean(numeric_only=True) - not possible, because grouping by score, but taking mean of non numeric like 'Name', so use numeric only - name column will be ignored\n",
    "print(df.groupby('Score').mean(numeric_only=True), end=\"\\n\\n\")    # Group by Age, get mean Score\n",
    "\n",
    "print(df.groupby('Score')[['Age']].mean(), end='\\n\\n') #Drops non numeric like 'Name' columns and 'Age'(manually mentioned) skips nan for 'Age -> calculates group-wise mean for Age \n",
    "\n",
    "df.loc[len(df)] = ['Doraemon',20,100]\n",
    "print(df.groupby('Name').agg({\n",
    "    'Score': 'mean',          #missing value should be np.nan (numeric), None is python object\n",
    "    'Age': 'max'              #max required numeric type\n",
    "}), end='\\n\\n')\n",
    "\n",
    "print(\n",
    "    df.agg({\n",
    "    'Score': ['min', 'max', 'mean'],\n",
    "    'Age': 'median'\n",
    "})\n",
    ")"
   ]
  },
  {
   "cell_type": "code",
   "execution_count": 128,
   "id": "e33fdd0a",
   "metadata": {},
   "outputs": [
    {
     "name": "stdout",
     "output_type": "stream",
     "text": [
      "   ID Name  Score\n",
      "0   1    A     90\n",
      "1   2    B     80\n"
     ]
    }
   ],
   "source": [
    "# Merging Datasets\n",
    "df1 = pd.DataFrame({'ID': [1,2], 'Name': ['A','B']})\n",
    "df2 = pd.DataFrame({'ID': [1,2], 'Score': [90,80]})\n",
    "df3 = pd.DataFrame({'ID1': [1,2], 'Score': [90,80]})\n",
    "\n",
    "merged = pd.merge(df1, df2, on='ID') # without on operator - default merges on ID\n",
    "print(merged)"
   ]
  },
  {
   "cell_type": "code",
   "execution_count": 129,
   "id": "21c83e2f",
   "metadata": {},
   "outputs": [
    {
     "name": "stdout",
     "output_type": "stream",
     "text": [
      "Index(['ID', 'Name'], dtype='object')\n",
      "Index(['ID1', 'Score'], dtype='object')\n",
      "   Name  Score\n",
      "ID            \n",
      "1     A     90\n",
      "2     B     80\n",
      "   Name  ID1\n",
      "ID          \n",
      "1     A  NaN\n",
      "2     B  NaN\n"
     ]
    }
   ],
   "source": [
    "# Joining by index\n",
    "print(df1.columns)\n",
    "print(df3.columns)\n",
    "\n",
    "# if there is matching columns, join that otherwise error\n",
    "# if there is no matching column, on joining makes second df nan values\n",
    "\n",
    "df1 = df1.set_index('ID')\n",
    "df2 = df2.set_index('ID')\n",
    "df3 = df3.set_index('Score')\n",
    "\n",
    "joined = df1.join(df2) #JOINING OF ID, ID, here name, score not possible -> beacuse id is common so breaks\n",
    "print(joined)\n",
    "joined1 = df1.join(df3) # joining of name, score without common columns - GIVE NAN FOR 2ND DATAFRAME\n",
    "print(joined1)\n"
   ]
  },
  {
   "cell_type": "markdown",
   "id": "f7c9c85f",
   "metadata": {},
   "source": [
    "ADVANCED"
   ]
  },
  {
   "cell_type": "code",
   "execution_count": 130,
   "id": "11dfa502",
   "metadata": {},
   "outputs": [
    {
     "name": "stdout",
     "output_type": "stream",
     "text": [
      "       Name   Age  Score\n",
      "0    Nobita  12.0      0\n",
      "1  Doraemon  13.0     85\n",
      "2     Suneo   NaN     80\n",
      "3  Doraemon  20.0    100\n"
     ]
    }
   ],
   "source": [
    "#Save to CSV\n",
    "print(df)\n",
    "df.to_csv(\"studentsfinal.csv\", index=False) #  to avoid writing row numbers as a column"
   ]
  },
  {
   "cell_type": "code",
   "execution_count": 132,
   "id": "ea67409d",
   "metadata": {},
   "outputs": [
    {
     "name": "stdout",
     "output_type": "stream",
     "text": [
      "       Name   Age  Score\n",
      "0    Nobita  12.0      0\n",
      "1  Doraemon  13.0     85\n",
      "2     Suneo   NaN     80\n",
      "3  Doraemon  20.0    100\n",
      "\n",
      "       Name   Age  Score\n",
      "3  Doraemon  20.0    100\n",
      "1  Doraemon  13.0     85\n",
      "2     Suneo   NaN     80\n",
      "0    Nobita  12.0      0\n",
      "\n"
     ]
    },
    {
     "data": {
      "text/html": [
       "<div>\n",
       "<style scoped>\n",
       "    .dataframe tbody tr th:only-of-type {\n",
       "        vertical-align: middle;\n",
       "    }\n",
       "\n",
       "    .dataframe tbody tr th {\n",
       "        vertical-align: top;\n",
       "    }\n",
       "\n",
       "    .dataframe thead th {\n",
       "        text-align: right;\n",
       "    }\n",
       "</style>\n",
       "<table border=\"1\" class=\"dataframe\">\n",
       "  <thead>\n",
       "    <tr style=\"text-align: right;\">\n",
       "      <th></th>\n",
       "      <th>Name</th>\n",
       "      <th>Age</th>\n",
       "      <th>Score</th>\n",
       "    </tr>\n",
       "  </thead>\n",
       "  <tbody>\n",
       "    <tr>\n",
       "      <th>0</th>\n",
       "      <td>Nobita</td>\n",
       "      <td>12.0</td>\n",
       "      <td>0</td>\n",
       "    </tr>\n",
       "    <tr>\n",
       "      <th>1</th>\n",
       "      <td>Doraemon</td>\n",
       "      <td>13.0</td>\n",
       "      <td>85</td>\n",
       "    </tr>\n",
       "    <tr>\n",
       "      <th>2</th>\n",
       "      <td>Suneo</td>\n",
       "      <td>NaN</td>\n",
       "      <td>80</td>\n",
       "    </tr>\n",
       "    <tr>\n",
       "      <th>3</th>\n",
       "      <td>Doraemon</td>\n",
       "      <td>20.0</td>\n",
       "      <td>100</td>\n",
       "    </tr>\n",
       "  </tbody>\n",
       "</table>\n",
       "</div>"
      ],
      "text/plain": [
       "       Name   Age  Score\n",
       "0    Nobita  12.0      0\n",
       "1  Doraemon  13.0     85\n",
       "2     Suneo   NaN     80\n",
       "3  Doraemon  20.0    100"
      ]
     },
     "execution_count": 132,
     "metadata": {},
     "output_type": "execute_result"
    }
   ],
   "source": [
    "#sort\n",
    "print(df, end='\\n\\n')\n",
    "\n",
    "print(df.sort_values(by='Score',ascending=False), end='\\n\\n')\n",
    "df.sort_index() #sort by row index"
   ]
  },
  {
   "cell_type": "code",
   "execution_count": null,
   "id": "4d59c8e7",
   "metadata": {},
   "outputs": [],
   "source": []
  }
 ],
 "metadata": {
  "kernelspec": {
   "display_name": "Python 3",
   "language": "python",
   "name": "python3"
  },
  "language_info": {
   "codemirror_mode": {
    "name": "ipython",
    "version": 3
   },
   "file_extension": ".py",
   "mimetype": "text/x-python",
   "name": "python",
   "nbconvert_exporter": "python",
   "pygments_lexer": "ipython3",
   "version": "3.13.3"
  }
 },
 "nbformat": 4,
 "nbformat_minor": 5
}

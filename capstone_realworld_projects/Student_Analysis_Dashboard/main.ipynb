{
 "cells": [
  {
   "cell_type": "code",
   "execution_count": null,
   "id": "bd2c1d59",
   "metadata": {},
   "outputs": [],
   "source": [
    "🔥 Capstone Mini Project: Student Dashboard Analysis"
   ]
  },
  {
   "cell_type": "markdown",
   "id": "dd87300d",
   "metadata": {},
   "source": [
    "📂 Files You’ll Create:\n",
    "students.csv — Main student data\n",
    "\n",
    "attendance.csv — Separate attendance file\n",
    "\n",
    "merged_df.csv — Final cleaned + merged + analyzed file"
   ]
  },
  {
   "cell_type": "markdown",
   "id": "4a9503b5",
   "metadata": {},
   "source": [
    "🧠 Project Scenario:\n",
    "You’re a data analyst working for a school. You receive two CSVs:\n",
    "\n",
    "One has student names and marks.\n",
    "\n",
    "Another has attendance percentages.\n",
    "\n",
    "Your job? Merge, clean, analyze, and generate insights."
   ]
  },
  {
   "cell_type": "markdown",
   "id": "188517ac",
   "metadata": {},
   "source": [
    "📁 Step 1: Create Two CSVs"
   ]
  },
  {
   "cell_type": "code",
   "execution_count": null,
   "id": "0f0f244a",
   "metadata": {},
   "outputs": [],
   "source": [
    "# students.csv\n",
    "import pandas as pd\n",
    "\n",
    "students = pd.DataFrame({\n",
    "    'ID': [101, 102, 103, 104],\n",
    "    'Name': ['Nobita', 'Doraemon', 'Suneo', 'Gian'],\n",
    "    'Marks': [55, 95, 75, 45]\n",
    "})\n",
    "students.to_csv(\"students.csv\", index=False)\n",
    "\n",
    "#attendance.csv\n",
    "attendance = pd.DataFrame({\n",
    "    'ID': [101, 102, 103, 104],\n",
    "    'Attendance': [70, 98, None, 60]\n",
    "})\n",
    "attendance.to_csv(\"attendance.csv\", index=False)\n"
   ]
  },
  {
   "cell_type": "markdown",
   "id": "785cd2d5",
   "metadata": {},
   "source": [
    "🧪 Step 2: Load & Merge"
   ]
  },
  {
   "cell_type": "code",
   "execution_count": 2,
   "id": "1bfd112d",
   "metadata": {},
   "outputs": [
    {
     "name": "stdout",
     "output_type": "stream",
     "text": [
      "    ID      Name  Marks  Attendance\n",
      "0  101    Nobita     55        70.0\n",
      "1  102  Doraemon     95        98.0\n",
      "2  103     Suneo     75         NaN\n",
      "3  104      Gian     45        60.0\n"
     ]
    }
   ],
   "source": [
    "students = pd.read_csv(\"students.csv\")\n",
    "attendance = pd.read_csv(\"attendance.csv\")\n",
    "\n",
    "df = pd.merge(students, attendance, on='ID')\n",
    "print(df)\n"
   ]
  },
  {
   "cell_type": "markdown",
   "id": "ca41f11f",
   "metadata": {},
   "source": [
    "🧼 Step 3: Clean & Add Insights\n",
    "Now we’ll clean up any missing or invalid data.\n",
    "\n",
    "🎯 Tasks:\n",
    "1. Drop rows with missing Name\n",
    "\n",
    "2. Fill missing Attendance with average attendance\n",
    "\n",
    "3. Fill missing Marks with average marks\n",
    "\n",
    "------------------------------------------------------\n",
    "🔹 Fill missing attendance with average.\n",
    "\n",
    "🔹 Add “Passed” column (Marks ≥ 60).\n",
    "\n",
    "🔹 Add “Needs Help” (Marks < 60 & Attendance < 75).\n",
    "\n",
    "🔹 Add “Grade”: A/B/C as earlier.\n",
    "--------------------------------------------------------"
   ]
  },
  {
   "cell_type": "code",
   "execution_count": 3,
   "id": "05769fac",
   "metadata": {},
   "outputs": [
    {
     "name": "stdout",
     "output_type": "stream",
     "text": [
      "    ID      Name  Marks  Attendance\n",
      "0  101    Nobita     55        70.0\n",
      "1  102  Doraemon     95        98.0\n",
      "2  103     Suneo     75        76.0\n",
      "3  104      Gian     45        60.0\n"
     ]
    }
   ],
   "source": [
    "# 1. Drop rows with missing Name\n",
    "df = df[df['Name'].notna()]\n",
    "\n",
    "# 2. Fill missing Attendance with mean\n",
    "df['Attendance'] = df['Attendance'].fillna(df['Attendance'].mean())\n",
    "\n",
    "# 3. Fill missing Marks with mean\n",
    "df['Marks'] = df['Marks'].fillna(df['Marks'].mean())\n",
    "\n",
    "print(df)\n"
   ]
  },
  {
   "cell_type": "markdown",
   "id": "b5bc8b42",
   "metadata": {},
   "source": [
    "✅ Step 4: Add Grades and Flags\n",
    "Now we’ll add:\n",
    "\n",
    "1. 🎓 Grade column:\n",
    "\n",
    "🔹  A: Marks ≥ 90\n",
    "\n",
    "🔹  B: 75 ≤ Marks < 90\n",
    "\n",
    "🔹  C: < 75\n",
    "\n",
    "2. 🚩 Needs Help column:\n",
    "\n",
    "🔹  \"Yes\" if Marks < 60 and Attendance < 75\n",
    "\n",
    "🔹  Else \"No\""
   ]
  },
  {
   "cell_type": "code",
   "execution_count": 4,
   "id": "ff827143",
   "metadata": {},
   "outputs": [
    {
     "name": "stdout",
     "output_type": "stream",
     "text": [
      "    ID      Name  Marks  Attendance Grade Needs Help\n",
      "0  101    Nobita     55        70.0     C        Yes\n",
      "1  102  Doraemon     95        98.0     A         No\n",
      "2  103     Suneo     75        76.0     B         No\n",
      "3  104      Gian     45        60.0     C        Yes\n"
     ]
    }
   ],
   "source": [
    "# Grade column\n",
    "df.loc[df['Marks'] >= 90, 'Grade'] = 'A'\n",
    "df.loc[(df['Marks'] >= 75) & (df['Marks'] < 90), 'Grade'] = 'B'\n",
    "df.loc[df['Marks'] < 75, 'Grade'] = 'C'\n",
    "\n",
    "# Needs Help column\n",
    "df['Needs Help'] = 'No'\n",
    "df.loc[(df['Marks'] < 60) & (df['Attendance'] < 75), 'Needs Help'] = 'Yes'\n",
    "\n",
    "print(df)\n"
   ]
  },
  {
   "cell_type": "markdown",
   "id": "f8f58674",
   "metadata": {},
   "source": [
    "🔥 Step 5: Save & Visualize Results\n",
    "\n",
    "Now that your DataFrame is complete with grades and flags, let’s:"
   ]
  },
  {
   "cell_type": "code",
   "execution_count": 5,
   "id": "226dfef6",
   "metadata": {},
   "outputs": [],
   "source": [
    "df.to_csv(\"final_student_report.csv\", index=False)\n"
   ]
  },
  {
   "cell_type": "code",
   "execution_count": 6,
   "id": "c19df86a",
   "metadata": {},
   "outputs": [
    {
     "ename": "ModuleNotFoundError",
     "evalue": "No module named 'matplotlib'",
     "output_type": "error",
     "traceback": [
      "\u001b[31m---------------------------------------------------------------------------\u001b[39m",
      "\u001b[31mModuleNotFoundError\u001b[39m                       Traceback (most recent call last)",
      "\u001b[36mCell\u001b[39m\u001b[36m \u001b[39m\u001b[32mIn[6]\u001b[39m\u001b[32m, line 1\u001b[39m\n\u001b[32m----> \u001b[39m\u001b[32m1\u001b[39m \u001b[38;5;28;01mimport\u001b[39;00m\u001b[38;5;250m \u001b[39m\u001b[34;01mmatplotlib\u001b[39;00m\u001b[34;01m.\u001b[39;00m\u001b[34;01mpyplot\u001b[39;00m\u001b[38;5;250m \u001b[39m\u001b[38;5;28;01mas\u001b[39;00m\u001b[38;5;250m \u001b[39m\u001b[34;01mplt\u001b[39;00m\n\u001b[32m      3\u001b[39m \u001b[38;5;66;03m# 📊 Count of students per Grade\u001b[39;00m\n\u001b[32m      4\u001b[39m df[\u001b[33m'\u001b[39m\u001b[33mGrade\u001b[39m\u001b[33m'\u001b[39m].value_counts().plot(kind=\u001b[33m'\u001b[39m\u001b[33mbar\u001b[39m\u001b[33m'\u001b[39m, color=\u001b[33m'\u001b[39m\u001b[33mskyblue\u001b[39m\u001b[33m'\u001b[39m)\n",
      "\u001b[31mModuleNotFoundError\u001b[39m: No module named 'matplotlib'"
     ]
    }
   ],
   "source": [
    "import matplotlib.pyplot as plt\n",
    "\n",
    "# 📊 Count of students per Grade\n",
    "df['Grade'].value_counts().plot(kind='bar', color='skyblue')\n",
    "plt.title(\"Number of Students per Grade\")\n",
    "plt.xlabel(\"Grade\")\n",
    "plt.ylabel(\"Count\")\n",
    "plt.show()\n"
   ]
  },
  {
   "cell_type": "markdown",
   "id": "d50946e8",
   "metadata": {},
   "source": [
    "🧠 Your Data is now:\n",
    "Cleaned\n",
    "\n",
    "Transformed\n",
    "\n",
    "Labeled\n",
    "\n",
    "Exported\n",
    "\n",
    "Visualized (optional)\n",
    "\n"
   ]
  }
 ],
 "metadata": {
  "kernelspec": {
   "display_name": "Python 3",
   "language": "python",
   "name": "python3"
  },
  "language_info": {
   "codemirror_mode": {
    "name": "ipython",
    "version": 3
   },
   "file_extension": ".py",
   "mimetype": "text/x-python",
   "name": "python",
   "nbconvert_exporter": "python",
   "pygments_lexer": "ipython3",
   "version": "3.13.3"
  }
 },
 "nbformat": 4,
 "nbformat_minor": 5
}

{
 "cells": [
  {
   "cell_type": "markdown",
   "id": "38087006",
   "metadata": {},
   "source": [
    "🔥 First Concept: NLP - Tokenization\n",
    "\n",
    "💡 What is it?\n",
    "Tokenization = Breaking down text into smaller pieces (words, subwords, or characters) so that models can understand and process them."
   ]
  },
  {
   "cell_type": "markdown",
   "id": "b08cc9e1",
   "metadata": {},
   "source": [
    "🧠 Why it matters?\n",
    "Machines can’t read sentences directly. They need tokens (like “Hello” → [Hello]) to convert into numbers (embeddings).\n",
    "\n",
    "🔧 Types of Tokenizers:\n",
    "\n",
    "- Word-level → “Hello world” → ['Hello', 'world']\n",
    "- Subword-level (BPE) → “unhappiness” → ['un', 'happi', 'ness']\n",
    "- Character-level → “Hi” → ['H', 'i']\n",
    "\n",
    "✅ Real Use:\n",
    "Hugging Face models like BERT use subword tokenizers."
   ]
  },
  {
   "cell_type": "markdown",
   "id": "565e6e0e",
   "metadata": {
    "vscode": {
     "languageId": "plaintext"
    }
   },
   "source": [
    "🤗 Transformers – Core Concept\n",
    "\n",
    "💡 What is a Transformer?\n",
    "A Transformer is an architecture that understands sequences (like sentences) using self-attention – it looks at all words at once and learns which ones matter most.\n",
    "\n",
    "🧠 Why It Matters?\n",
    "This powers BERT, GPT, Claude, Gemini – all modern LLMs.\n",
    "\n",
    "Key Ideas:\n",
    "\n",
    "- No loops, just attention\n",
    "- Parallel processing = Fast\n",
    "- Can understand long-range word relationships (e.g., “bank” = riverbank or money)\n",
    "\n",
    "🧱 Transformer Parts (simple view):\n",
    "- Input Embeddings: Text → Vectors\n",
    "- Positional Encoding: Adds word order info\n",
    "- Self-Attention: Learns context\n",
    "- Feed Forward Layers: Processes info\n",
    "- Output: Classifies, generates, etc."
   ]
  },
  {
   "cell_type": "code",
   "execution_count": null,
   "id": "5eb56a5b",
   "metadata": {
    "vscode": {
     "languageId": "powershell"
    }
   },
   "outputs": [],
   "source": [
    "# !pip install transformers\n",
    "\n",
    "# change in notepad\n",
    "# or change in system Move Python 3.13 to Top in environmental variable\n",
    "\n"
   ]
  },
  {
   "cell_type": "code",
   "execution_count": null,
   "id": "a0c51976",
   "metadata": {},
   "outputs": [
    {
     "name": "stdout",
     "output_type": "stream",
     "text": [
      "/Library/Developer/CommandLineTools/usr/bin/python3\n"
     ]
    },
    {
     "name": "stderr",
     "output_type": "stream",
     "text": [
      "/Users/rakshathushetty/Library/Python/3.9/lib/python/site-packages/urllib3/__init__.py:35: NotOpenSSLWarning: urllib3 v2 only supports OpenSSL 1.1.1+, currently the 'ssl' module is compiled with 'LibreSSL 2.8.3'. See: https://github.com/urllib3/urllib3/issues/3020\n",
      "  warnings.warn(\n",
      "/Users/rakshathushetty/Library/Python/3.9/lib/python/site-packages/tqdm/auto.py:21: TqdmWarning: IProgress not found. Please update jupyter and ipywidgets. See https://ipywidgets.readthedocs.io/en/stable/user_install.html\n",
      "  from .autonotebook import tqdm as notebook_tqdm\n"
     ]
    },
    {
     "name": "stdout",
     "output_type": "stream",
     "text": [
      "4.52.4\n"
     ]
    }
   ],
   "source": [
    "import sys\n",
    "print(sys.executable)\n",
    "\n",
    "\n",
    "import transformers\n",
    "print(transformers.__version__)"
   ]
  },
  {
   "cell_type": "code",
   "execution_count": null,
   "id": "b4033f30",
   "metadata": {},
   "outputs": [
    {
     "name": "stderr",
     "output_type": "stream",
     "text": [
      "No model was supplied, defaulted to distilbert/distilbert-base-uncased-finetuned-sst-2-english and revision 714eb0f (https://huggingface.co/distilbert/distilbert-base-uncased-finetuned-sst-2-english).\n",
      "Using a pipeline without specifying a model name and revision in production is not recommended.\n",
      "Device set to use mps:0\n"
     ]
    },
    {
     "name": "stdout",
     "output_type": "stream",
     "text": [
      "[{'label': 'POSITIVE', 'score': 0.9998753070831299}]\n"
     ]
    }
   ],
   "source": [
    "# 🤗 Using Hugging Face Transformers (Hands-On)\n",
    "# Let’s load a real model and run it on your own text 👇\n",
    "\n",
    "from transformers import pipeline    # Correct\n",
    "\n",
    "classifier = pipeline(\"sentiment-analysis\")\n",
    "\n",
    "# result = classifier(\"I love lesarning huggface with chatgpt\")\n",
    "result = classifier(\"happy\")\n",
    "print(result) # [{'label': 'POSITIVE', 'score': 0.9979}] 'label': Predicted class 'score': Confidence (close to 1.0 = very confident)"
   ]
  },
  {
   "cell_type": "markdown",
   "id": "e22cef83",
   "metadata": {},
   "source": [
    "🧠 What’s happening here:\n",
    "pipeline(\"sentiment-analysis\"): Loads a pretrained model like BERT that’s fine-tuned for sentiment.\n",
    "\n",
    "You pass in raw text → it gets tokenized, embedded, processed by transformer → gives a label (POSITIVE/NEGATIVE) + confidence."
   ]
  },
  {
   "cell_type": "markdown",
   "id": "59d91548",
   "metadata": {},
   "source": [
    "🧠 Token IDs & Attention Mask (Mini Concept)\n",
    "\n",
    "💡 Token IDs:\n",
    "- Text is turned into numbers. Example:\n",
    "- \"AI is great\" → [101, 9932, 2003, 2307, 102] (Each word/subword gets a unique ID from the model's vocab)\n",
    "\n",
    "💡 Attention Mask:\n",
    "- Tells the model which tokens to focus on (1 = real word, 0 = padding).\n",
    "- Useful when inputs are of different lengths but sent as batches."
   ]
  },
  {
   "cell_type": "code",
   "execution_count": null,
   "id": "16bc2184",
   "metadata": {},
   "outputs": [
    {
     "name": "stdout",
     "output_type": "stream",
     "text": [
      "tensor([[  101,  9932,  2003, 12476,   999,   102]])\n",
      "tensor([[1, 1, 1, 1, 1, 1]])\n"
     ]
    }
   ],
   "source": [
    "from transformers import AutoTokenizer #loads class to fetch tokenizer from Hugging Face (e.g. bert, gpt, etc.)\n",
    "\n",
    "tokenizer = AutoTokenizer.from_pretrained(\"bert-base-uncased\") #✅ Downloads the BERT tokenizer (lowercase version) that knows how to:\n",
    "# split words into subwords\n",
    "# convert to token IDs\n",
    "inputs = tokenizer(\"AI is awesome!\", padding=True, truncation=True, return_tensors=\"pt\")\n",
    "# ✅ Tokenizes the input:\n",
    "# padding=True → Pads the input if it's shorter than max length\n",
    "# truncation=True → Cuts if it’s too long\n",
    "# return_tensors=\"pt\" → Returns PyTorch tensor format (pt = PyTorch)\n",
    "\n",
    "print(inputs['input_ids'])       # Token IDs\n",
    "print(inputs['attention_mask'])  # 1s = real tokens, 0s = ignore (pad)"
   ]
  },
  {
   "cell_type": "markdown",
   "id": "e92e2175",
   "metadata": {},
   "source": [
    "we’ll manually run text through a Transformer model for classification — to see how all pieces (tokenizer + model) work together."
   ]
  },
  {
   "cell_type": "code",
   "execution_count": null,
   "id": "6247b249",
   "metadata": {},
   "outputs": [
    {
     "name": "stdout",
     "output_type": "stream",
     "text": [
      "SequenceClassifierOutput(loss=None, logits=tensor([[-4.3246,  4.6837]]), hidden_states=None, attentions=None)\n",
      "tensor([[1.2238e-04, 9.9988e-01]])\n"
     ]
    }
   ],
   "source": [
    "from transformers import AutoTokenizer, AutoModelForSequenceClassification # Loads tokenizer + classification model\n",
    "import torch # We'll use PyTorch tensors for input/output\n",
    "\n",
    "tokenizer = AutoTokenizer.from_pretrained(\"distilbert-base-uncased\") # Tokenizer: Breaks input text into token IDs\n",
    "model = AutoModelForSequenceClassification.from_pretrained(\"distilbert-base-uncased-finetuned-sst-2-english\") #Model: A DistilBERT already trained for sentiment analysis (SST-2 dataset)\n",
    "\n",
    "inputs = tokenizer(\"I love this movie!\", return_tensors=\"pt\") #Tokenizes text → returns token IDs + attention mask (in PyTorch tensor format)\n",
    "\n",
    "with torch.no_grad():             # Disables gradient tracking (we're just predicting)\n",
    "    outputs = model(**inputs)     # Passes the input into the model to get output logits\n",
    "print(outputs)\n",
    "\n",
    "predictions = torch.nn.functional.softmax(outputs.logits, dim=-1) #Converts raw output (logits) into probabilities\n",
    "print(predictions)  #Usually returns 2 classes: [negative_prob, positive_prob]"
   ]
  },
  {
   "cell_type": "markdown",
   "id": "04c99a33",
   "metadata": {},
   "source": [
    "### 🔹 What is `logits`?\n",
    "\n",
    "* `logits` are the **raw, unnormalized outputs** from the final layer of a neural network.\n",
    "* They can be **positive or negative**, and **don’t sum to 1**.\n",
    "* You convert `logits` → probabilities using `softmax`.\n",
    "\n",
    "**Example:**\n",
    "\n",
    "```python\n",
    "logits = tensor([[2.0, 0.5]])\n",
    "# After softmax → [0.82, 0.18] → means class 0 is 82% likely\n",
    "```\n",
    "\n",
    "---\n",
    "\n",
    "### 🔹 What is `**inputs` inside the model?\n",
    "\n",
    "When you do:\n",
    "\n",
    "```python\n",
    "outputs = model(**inputs)\n",
    "```\n",
    "\n",
    "It’s the same as writing:\n",
    "\n",
    "```python\n",
    "outputs = model(input_ids=..., attention_mask=...)\n",
    "```\n",
    "\n",
    "✔️ `tokenizer(...)` returns a dictionary like:\n",
    "\n",
    "```python\n",
    "{\n",
    "  'input_ids': tensor([[101, 1045, 2293, 2023, 3185, 999, 102]]),\n",
    "  'attention_mask': tensor([[1, 1, 1, 1, 1, 1, 1]])\n",
    "}\n",
    "```\n",
    "\n",
    "The `**inputs` syntax **unpacks** that dictionary directly into keyword arguments for the model."
   ]
  },
  {
   "cell_type": "markdown",
   "id": "be9850fa",
   "metadata": {},
   "source": [
    "\n",
    "### 1️⃣ **Why `torch.no_grad()`?**\n",
    "\n",
    "When you're **only predicting (inference)** and not training, you don’t need to calculate gradients.\n",
    "\n",
    "✅ **Benefits:**\n",
    "\n",
    "* Saves memory\n",
    "* Speeds up execution\n",
    "* Cleaner and safer for inference\n",
    "\n",
    "---\n",
    "\n",
    "### 2️⃣ **What is Softmax?**\n",
    "\n",
    "🧠 **Softmax** turns raw scores (logits) into probabilities that add up to 1.\n",
    "\n",
    "**Formula:**\n",
    "\n",
    "$$\n",
    "\\text{softmax}(x_i) = \\frac{e^{x_i}}{\\sum_{j} e^{x_j}}\n",
    "$$\n",
    "\n",
    "It gives:\n",
    "\n",
    "* High confidence for the most likely class\n",
    "* Low values for others\n",
    "* Output like: `[0.02, 0.98]` → 98% confidence for class 1\n",
    "\n",
    "---\n",
    "\n",
    "### 3️⃣ **Whole Purpose Recap**\n",
    "\n",
    "We’re doing this:\n",
    "\n",
    "**Raw Text** → `Tokenizer` → `Model` → `Logits` → `Softmax` → `Probabilities` → `Prediction`\n",
    "\n",
    "📌 This is how Hugging Face models work internally:\n",
    "\n",
    "* Tokenization = preprocess\n",
    "* Model = neural network\n",
    "* Logits = raw model output\n",
    "* Softmax = make predictions human-readable\n"
   ]
  },
  {
   "cell_type": "markdown",
   "id": "976d8063",
   "metadata": {},
   "source": [
    "🛠️ Mini Project: Sentiment Classifier for Multiple Texts\n",
    "create a custom function that can analyze multiple reviews at once."
   ]
  },
  {
   "cell_type": "code",
   "execution_count": null,
   "id": "0337914b",
   "metadata": {},
   "outputs": [
    {
     "name": "stderr",
     "output_type": "stream",
     "text": [
      "No model was supplied, defaulted to distilbert/distilbert-base-uncased-finetuned-sst-2-english and revision 714eb0f (https://huggingface.co/distilbert/distilbert-base-uncased-finetuned-sst-2-english).\n",
      "Using a pipeline without specifying a model name and revision in production is not recommended.\n",
      "Device set to use mps:0\n"
     ]
    },
    {
     "name": "stdout",
     "output_type": "stream",
     "text": [
      "[{'label': 'POSITIVE', 'score': 0.9998781681060791}, {'label': 'NEGATIVE', 'score': 0.9997876286506653}, {'label': 'NEGATIVE', 'score': 0.9886063933372498}, {'label': 'NEGATIVE', 'score': 0.998314619064331}, {'label': 'POSITIVE', 'score': 0.999871015548706}]\n",
      "\n",
      "This movie was fantastic! -> POSITIVE (99.99%)\n",
      "Worst experience ever. -> NEGATIVE (99.98%)\n",
      "I loved the visuals but hated the story. -> NEGATIVE (98.86%)\n",
      "Just average, nothing special. -> NEGATIVE (99.83%)\n",
      "Absolutely brilliant! -> POSITIVE (99.99%)\n"
     ]
    }
   ],
   "source": [
    "from transformers import pipeline\n",
    "\n",
    "# Load sentiment analysis model\n",
    "sentiment_model = pipeline(\"sentiment-analysis\")\n",
    "\n",
    "# Sample reviews\n",
    "reviews = [\n",
    "    \"This movie was fantastic!\",\n",
    "    \"Worst experience ever.\",\n",
    "    \"I loved the visuals but hated the story.\",\n",
    "    \"Just average, nothing special.\",\n",
    "    \"Absolutely brilliant!\"\n",
    "]\n",
    "\n",
    "# Analyze all\n",
    "results = sentiment_model(reviews)\n",
    "print(results, end=\"\\n\\n\")\n",
    "\n",
    "for review, result in zip(reviews, results):\n",
    "    print(f\"{review} -> {result['label']} ({round(result['score']*100, 2)}%)\")\n"
   ]
  },
  {
   "cell_type": "markdown",
   "id": "e335b7e5",
   "metadata": {},
   "source": [
    "🔍 What You Practiced:\n",
    "\n",
    "- Multi-input processing\n",
    "- Model confidence score\n",
    "- Basic NLP automation"
   ]
  },
  {
   "cell_type": "markdown",
   "id": "bc9481c9",
   "metadata": {},
   "source": [
    "🧠 Use Custom Models from Hugging Face Hub\n",
    "explore other powerful models (e.g. emotion, topic, toxicity detection) using a few lines of code."
   ]
  },
  {
   "cell_type": "code",
   "execution_count": 2,
   "id": "92ac4d4b",
   "metadata": {},
   "outputs": [
    {
     "name": "stderr",
     "output_type": "stream",
     "text": [
      "/Users/rakshathushetty/Library/Python/3.9/lib/python/site-packages/urllib3/__init__.py:35: NotOpenSSLWarning: urllib3 v2 only supports OpenSSL 1.1.1+, currently the 'ssl' module is compiled with 'LibreSSL 2.8.3'. See: https://github.com/urllib3/urllib3/issues/3020\n",
      "  warnings.warn(\n",
      "/Users/rakshathushetty/Library/Python/3.9/lib/python/site-packages/tqdm/auto.py:21: TqdmWarning: IProgress not found. Please update jupyter and ipywidgets. See https://ipywidgets.readthedocs.io/en/stable/user_install.html\n",
      "  from .autonotebook import tqdm as notebook_tqdm\n",
      "Device set to use mps:0\n"
     ]
    },
    {
     "name": "stdout",
     "output_type": "stream",
     "text": [
      "[[{'label': 'joy', 'score': 0.7351986765861511}]]\n"
     ]
    }
   ],
   "source": [
    "# ✅ Example 1: Emotion Detection\n",
    "from transformers import pipeline\n",
    "\n",
    "emotion = pipeline(\"text-classification\", model=\"j-hartmann/emotion-english-distilroberta-base\", top_k=1)\n",
    "\n",
    "print(emotion(\"I am so proud of myself today!\"))"
   ]
  },
  {
   "cell_type": "code",
   "execution_count": 7,
   "id": "4cfe6fdb",
   "metadata": {},
   "outputs": [
    {
     "name": "stderr",
     "output_type": "stream",
     "text": [
      "Device set to use mps:0\n"
     ]
    },
    {
     "name": "stdout",
     "output_type": "stream",
     "text": [
      "{'sequence': 'Apple is releasing a new iPhone this year', 'labels': ['technology', 'food'], 'scores': [0.9958313703536987, 0.004168595653027296]}\n"
     ]
    }
   ],
   "source": [
    "# # ✅ Example 2: Topic Classification\n",
    "# topic = pipeline(\"zero-shot-classification\", model=\"facebook/bart-large-mnli\")\n",
    "\n",
    "# text = \"Apple is releasing a new iPhone this year\"\n",
    "# # labels = [\"sports\", \"politics\", \"technology\", \"food\"]\n",
    "# labels = [\"technology\", \"food\"]\n",
    "\n",
    "# print(topic(text, candidate_labels=labels))\n",
    "\n",
    "# ✅ Example 2: Topic Classification\n",
    "import os\n",
    "os.environ[\"TOKENIZERS_PARALLELISM\"] = \"false\"\n",
    "\n",
    "classifier = pipeline(\"zero-shot-classification\", model=\"valhalla/distilbart-mnli-12-1\") #light weight model - model=\"typeform/distilbert-base-uncased-mnli\"\n",
    "\n",
    "text = \"Apple is releasing a new iPhone this year\"\n",
    "# labels = [\"sports\", \"politics\", \"technology\", \"food\"]\n",
    "labels = [\"technology\", \"food\"]\n",
    "\n",
    "result = classifier(text, candidate_labels=labels)\n",
    "print(result)\n",
    "\n",
    "\n"
   ]
  },
  {
   "cell_type": "code",
   "execution_count": 8,
   "id": "37b84ce7",
   "metadata": {},
   "outputs": [
    {
     "name": "stderr",
     "output_type": "stream",
     "text": [
      "Device set to use mps:0\n"
     ]
    },
    {
     "name": "stdout",
     "output_type": "stream",
     "text": [
      "[{'label': 'toxic', 'score': 0.95553058385849}]\n"
     ]
    }
   ],
   "source": [
    "# ✅ Example 3: Toxicity Detection\n",
    "toxic = pipeline(\"text-classification\", model=\"unitary/toxic-bert\")\n",
    "\n",
    "print(toxic(\"I hate you!\"))"
   ]
  },
  {
   "cell_type": "markdown",
   "id": "7c719bd4",
   "metadata": {},
   "source": [
    "🔍 Summary:\n",
    "- pipeline() makes any model easy to use\n",
    "- You can swap models using Hugging Face model names\n",
    "- Explore huggingface.co/models for more tasks"
   ]
  },
  {
   "cell_type": "markdown",
   "id": "db165370",
   "metadata": {},
   "source": [
    "zero-shot takes time\n",
    "⏱️ Why Zero-Shot Topic Classification Is Slow:\n",
    "You're using this:\n",
    "\n",
    "# pipeline(\"zero-shot-classification\", model=\"facebook/bart-large-mnli\")\n",
    "This:\n",
    "- Loads a large transformer (BART = 400M+ parameters)\n",
    "- Internally runs the input once per label (e.g., 4 labels = 4 forward passes)\n",
    "- Works without any prior training on your custom labels = “zero-shot”\n",
    "\n",
    "✅ Tips to Speed It Up:\n",
    "\n",
    "- Use fewer candidate labels\n",
    "- Use DistilBART (if available) instead of full BART\n",
    "- Run it only once and cache results locally\n",
    "- Use GPU if you have one\n"
   ]
  },
  {
   "cell_type": "markdown",
   "id": "161ea483",
   "metadata": {},
   "source": [
    "This warning and retry log is happening because the zero-shot model is trying to download large model files from Hugging Face, but:\n",
    "\n",
    "❗Issue:\n",
    "DNS lookup is failing due to network problems, causing:\n",
    "\n",
    "⚠️ Retrying multiple times\n",
    "⚠️ Delayed or stuck execution\n",
    "📦 Big files not loading (models are 1GB+)\n",
    "\n",
    "🔧 How to Fix It:\n",
    "✅ Option 1: Set this to silence tokenizer warnings\n",
    "Add this before importing pipelines:\n",
    "# import os\n",
    "# os.environ[\"TOKENIZERS_PARALLELISM\"] = \"false\"\n",
    "\n",
    "✅ Option 2: Try lightweight model\n",
    "Use \"valhalla/distilbart-mnli-12-1\" instead of \"facebook/bart-large-mnli\":\n",
    "# classifier = pipeline(\"zero-shot-classification\", model=\"valhalla/distilbart-mnli-12-1\")\n",
    "\n",
    "✅ Option 3: Restart kernel + run with stable internet\n",
    "Sometimes Colab/VS Code gets stuck due to a corrupted download. Restarting + running again helps.\n",
    "\n",
    "Network/DNS Issues - ping huggingface.co\n",
    "Ensure your environment can connect to Hugging Face:\n",
    "\n",
    "Cache & Retry\n",
    "Clear the cache folder: - ~/.cache/huggingface"
   ]
  },
  {
   "cell_type": "markdown",
   "id": "2c845757",
   "metadata": {},
   "source": [
    "Embeddings + Vector Search (FAISS, Pinecone) — the foundation of RAG, semantic search, chatbot memory."
   ]
  },
  {
   "cell_type": "markdown",
   "id": "734719e8",
   "metadata": {},
   "source": [
    "**Embeddings + Vector Search**, the backbone of:\n",
    "\n",
    "* **Semantic Search**\n",
    "* **Chatbot memory**\n",
    "* **RAG (Retrieval-Augmented Generation)**\n",
    "\n",
    "Let’s start with the core idea 👇\n",
    "\n",
    "---\n",
    "\n",
    "### 🧠 What Are Embeddings?\n",
    "\n",
    "Embeddings are **vector representations of text** (or images, code, etc.) in a high-dimensional space.\n",
    "Words/paragraphs with **similar meaning → closer vectors**.\n",
    "\n",
    "📌 Example:\n",
    "\n",
    "* \"king\" and \"queen\" will have similar vectors.\n",
    "* \"dog\" and \"bark\" will be closer than \"dog\" and \"car\".\n",
    "\n",
    "---\n",
    "\n",
    "### 🔍 Why Use Embeddings?\n",
    "\n",
    "* To **compare semantic meaning** (not exact words)\n",
    "* To build **semantic search engines**, chatbot memory, document similarity tools, etc.\n",
    "\n",
    "---\n",
    "\n",
    "### ⚙️ What is FAISS?\n",
    "\n",
    "FAISS (by Facebook AI) lets you:\n",
    "\n",
    "* Store millions of embeddings\n",
    "* Search fast: “Which vector is most similar to this one?”\n",
    "\n",
    "---\n",
    "\n",
    "### 📦 Flow (RAG / Semantic Search):\n",
    "\n",
    "1. Convert text → embeddings (using models like `sentence-transformers`)\n",
    "2. Store them in FAISS or Pinecone\n",
    "3. When user queries:\n",
    "   → Convert query to embedding\n",
    "   → Search nearest documents\n",
    "   → Show or feed them to LLM\n",
    "\n",
    "---\n",
    "Step 1: pip install sentence-transformer"
   ]
  },
  {
   "cell_type": "code",
   "execution_count": null,
   "id": "00bca2df",
   "metadata": {},
   "outputs": [
    {
     "name": "stdout",
     "output_type": "stream",
     "text": [
      "(3, 384)\n"
     ]
    }
   ],
   "source": [
    "# ✅ Step 2: Get sentence embeddings\n",
    "# Here’s how to convert text into a vector using a pretrained model: text->vector\n",
    "from sentence_transformers import SentenceTransformer\n",
    "\n",
    "model = SentenceTransformer(\"all-MiniLM-L6-v2\")  # Light & fast, 384-dim embeddings\n",
    "\n",
    "sentences = [\n",
    "    \"I love playing football.\",\n",
    "    \"Soccer is my favorite sport.\",\n",
    "    \"Apples are red and sweet.\"\n",
    "]\n",
    "\n",
    "embeddings = model.encode(sentences)\n",
    "\n",
    "print(embeddings.shape)  # (3, 384)\n",
    "# Each sentence is now a 384-dimension vector that captures meaning."
   ]
  },
  {
   "cell_type": "markdown",
   "id": "4f75b766",
   "metadata": {},
   "source": [
    "pip install faiss-cpu"
   ]
  },
  {
   "cell_type": "code",
   "execution_count": null,
   "id": "37bb535c",
   "metadata": {},
   "outputs": [
    {
     "name": "stdout",
     "output_type": "stream",
     "text": [
      "Most similar sentences:\n",
      "I love playing football.\n",
      "Soccer is my favorite sport.\n"
     ]
    }
   ],
   "source": [
    "# build a vector search system using FAISS. This is used in chatbots, search engines, RAG, memory, etc.\n",
    "# ✅ Step 2: Use FAISS to search similar sentences\n",
    "import faiss          # ✅ faiss: Facebook AI Similarity Search – used to index and search high-dimensional vectors fast.\n",
    "import numpy as np    # ✅ numpy: Needed to store and manipulate embeddings (vectors).\n",
    "\n",
    "# Convert embeddings to float32 (required by FAISS)\n",
    "embeddings = np.array(embeddings).astype(\"float32\") #🔍 FAISS only works with float32 format. We convert sentence embeddings (from sentence-transformers) to float32.\n",
    "\n",
    "# Create FAISS index\n",
    "index = faiss.IndexFlatL2(embeddings.shape[1]) #🧠 Create a FAISS index that uses L2 (Euclidean) distance to measure similarity. embeddings.shape[1] = the number of dimensions per embedding (e.g., 384 or 768).\n",
    "index.add(embeddings)  # Add your sentence vectors to index. 📚 We add all our sentence vectors to the index — like storing them in memory for search.\n",
    "\n",
    "\n",
    "#querying faiss\n",
    "# Search for most similar sentence to a new query\n",
    "query = model.encode([\"I enjoy watching football\"]).astype(\"float32\") #🎯 We encode a new query sentence into a vector using the same sentence-transformers model. Convert to float32 for FAISS.\n",
    "\n",
    "D, I = index.search(query, k=2) #🔍 FAISS searches and gives:\n",
    "# D: distances to the top-k closest vectors\n",
    "# I: indices of the most similar sentences (from original list)\n",
    "\n",
    "# Show the results - 🗣️ We print the actual sentences corresponding to the top-k similar results.\n",
    "print(\"Most similar sentences:\")\n",
    "for idx in I[0]:\n",
    "    print(sentences[idx])\n"
   ]
  },
  {
   "cell_type": "markdown",
   "id": "1fb9ef18",
   "metadata": {},
   "source": [
    "📌 Summary\n",
    "FAISS creates a fast search engine using vector similarity.\n",
    "We use sentence embeddings → build index → query → get closest matches."
   ]
  },
  {
   "cell_type": "markdown",
   "id": "697fc28d",
   "metadata": {},
   "source": [
    "This finds the closest meaning sentence using vector similarity!\n",
    "when user queries -> get top 2 similar sentences (from faiss) like query\n",
    "🧠 GOAL:\n",
    "We want to search similar sentences using semantic meaning (not keyword). This is useful in:\n",
    "\n",
    "- AI search engines\n",
    "- Chatbot memory\n",
    "- Document Q&A\n",
    "- Retrieval-Augmented Generation (RAG)"
   ]
  },
  {
   "cell_type": "code",
   "execution_count": 11,
   "id": "64422f64",
   "metadata": {},
   "outputs": [
    {
     "name": "stdout",
     "output_type": "stream",
     "text": [
      "[[ 4.9958229e-02  3.3321250e-02 -2.3285332e-03 ...  1.1092138e-02\n",
      "   8.0104306e-05 -6.7105673e-02]\n",
      " [-3.2004926e-02 -1.6430480e-03  2.6563013e-02 ...  3.8728736e-02\n",
      "   6.6925928e-02 -4.1541487e-02]\n",
      " [ 1.8890753e-02  3.5387490e-02 -3.0344751e-02 ...  6.5683750e-03\n",
      "   1.1034363e-01 -2.4785191e-02]\n",
      " [-2.1528115e-02  4.1045551e-03  4.4449449e-02 ... -4.9252391e-02\n",
      "   1.4991087e-03 -7.1676977e-02]\n",
      " [ 2.4371710e-02  3.2307386e-02  1.8054860e-02 ...  3.5636850e-02\n",
      "   6.0518291e-02  1.3624058e-02]]\n",
      "dist [[0.56211036 1.2136043  1.2308424 ]] [[4 0 2]]\n",
      "['Football is a great sport', 'I love playing cricket', 'Messi is the best football player']\n"
     ]
    }
   ],
   "source": [
    "# 🔧 Now let's turn this into a reusable search function:\n",
    "from sentence_transformers import SentenceTransformer\n",
    "import faiss\n",
    "import numpy as np\n",
    "\n",
    "# 1. Load model & encode your sentences\n",
    "model = SentenceTransformer(\"all-MiniLM-L6-v2\")\n",
    "sentences = [\n",
    "    \"I love playing cricket\",\n",
    "    \"Artificial Intelligence is the future\",\n",
    "    \"Messi is the best football player\",\n",
    "    \"AI will change the world\",\n",
    "    \"Football is a great sport\"\n",
    "]\n",
    "embeddings = model.encode(sentences).astype(\"float32\")\n",
    "\n",
    "# 2. Build the FAISS index\n",
    "index = faiss.IndexFlatL2(embeddings.shape[1])\n",
    "index.add(embeddings)\n",
    "print(embeddings)\n",
    "\n",
    "# 3. 🔍 Define the search function\n",
    "def semantic_search(query_text, top_k=3):\n",
    "    query_vec = model.encode([query_text]).astype(\"float32\")\n",
    "    distances, indices = index.search(query_vec, top_k)\n",
    "    print(\"dist\", distances, indices)\n",
    "    return [sentences[i] for i in indices[0]]\n",
    "\n",
    "# 4. ✅ Try it\n",
    "print(semantic_search(\"Tell me about football\"))\n"
   ]
  },
  {
   "cell_type": "code",
   "execution_count": null,
   "id": "a1678349",
   "metadata": {},
   "outputs": [],
   "source": []
  }
 ],
 "metadata": {
  "kernelspec": {
   "display_name": "Python 3",
   "language": "python",
   "name": "python3"
  },
  "language_info": {
   "codemirror_mode": {
    "name": "ipython",
    "version": 3
   },
   "file_extension": ".py",
   "mimetype": "text/x-python",
   "name": "python",
   "nbconvert_exporter": "python",
   "pygments_lexer": "ipython3",
   "version": "3.9.6"
  }
 },
 "nbformat": 4,
 "nbformat_minor": 5
}

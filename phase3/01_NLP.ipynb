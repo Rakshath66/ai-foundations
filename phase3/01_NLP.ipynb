{
 "cells": [
  {
   "cell_type": "markdown",
   "id": "38087006",
   "metadata": {},
   "source": [
    "🔥 First Concept: NLP - Tokenization\n",
    "\n",
    "💡 What is it?\n",
    "Tokenization = Breaking down text into smaller pieces (words, subwords, or characters) so that models can understand and process them."
   ]
  },
  {
   "cell_type": "markdown",
   "id": "b08cc9e1",
   "metadata": {},
   "source": [
    "🧠 Why it matters?\n",
    "Machines can’t read sentences directly. They need tokens (like “Hello” → [Hello]) to convert into numbers (embeddings).\n",
    "\n",
    "🔧 Types of Tokenizers:\n",
    "\n",
    "- Word-level → “Hello world” → ['Hello', 'world']\n",
    "- Subword-level (BPE) → “unhappiness” → ['un', 'happi', 'ness']\n",
    "- Character-level → “Hi” → ['H', 'i']\n",
    "\n",
    "✅ Real Use:\n",
    "Hugging Face models like BERT use subword tokenizers."
   ]
  },
  {
   "cell_type": "markdown",
   "id": "565e6e0e",
   "metadata": {
    "vscode": {
     "languageId": "plaintext"
    }
   },
   "source": [
    "🤗 Transformers – Core Concept\n",
    "\n",
    "💡 What is a Transformer?\n",
    "A Transformer is an architecture that understands sequences (like sentences) using self-attention – it looks at all words at once and learns which ones matter most.\n",
    "\n",
    "🧠 Why It Matters?\n",
    "This powers BERT, GPT, Claude, Gemini – all modern LLMs.\n",
    "\n",
    "Key Ideas:\n",
    "\n",
    "- No loops, just attention\n",
    "- Parallel processing = Fast\n",
    "- Can understand long-range word relationships (e.g., “bank” = riverbank or money)\n",
    "\n",
    "🧱 Transformer Parts (simple view):\n",
    "- Input Embeddings: Text → Vectors\n",
    "- Positional Encoding: Adds word order info\n",
    "- Self-Attention: Learns context\n",
    "- Feed Forward Layers: Processes info\n",
    "- Output: Classifies, generates, etc."
   ]
  },
  {
   "cell_type": "code",
   "execution_count": 2,
   "id": "5eb56a5b",
   "metadata": {
    "vscode": {
     "languageId": "powershell"
    }
   },
   "outputs": [],
   "source": [
    "# !pip install transformers\n",
    "\n",
    "# change in notepad\n",
    "# or change in system Move Python 3.13 to Top in environmental variable\n",
    "\n"
   ]
  },
  {
   "cell_type": "code",
   "execution_count": 1,
   "id": "a0c51976",
   "metadata": {},
   "outputs": [
    {
     "name": "stdout",
     "output_type": "stream",
     "text": [
      "/Library/Developer/CommandLineTools/usr/bin/python3\n"
     ]
    },
    {
     "name": "stderr",
     "output_type": "stream",
     "text": [
      "/Users/rakshathushetty/Library/Python/3.9/lib/python/site-packages/urllib3/__init__.py:35: NotOpenSSLWarning: urllib3 v2 only supports OpenSSL 1.1.1+, currently the 'ssl' module is compiled with 'LibreSSL 2.8.3'. See: https://github.com/urllib3/urllib3/issues/3020\n",
      "  warnings.warn(\n",
      "/Users/rakshathushetty/Library/Python/3.9/lib/python/site-packages/tqdm/auto.py:21: TqdmWarning: IProgress not found. Please update jupyter and ipywidgets. See https://ipywidgets.readthedocs.io/en/stable/user_install.html\n",
      "  from .autonotebook import tqdm as notebook_tqdm\n"
     ]
    },
    {
     "name": "stdout",
     "output_type": "stream",
     "text": [
      "4.52.4\n"
     ]
    }
   ],
   "source": [
    "import sys\n",
    "print(sys.executable)\n",
    "\n",
    "\n",
    "import transformers\n",
    "print(transformers.__version__)"
   ]
  },
  {
   "cell_type": "code",
   "execution_count": 4,
   "id": "b4033f30",
   "metadata": {},
   "outputs": [
    {
     "name": "stderr",
     "output_type": "stream",
     "text": [
      "No model was supplied, defaulted to distilbert/distilbert-base-uncased-finetuned-sst-2-english and revision 714eb0f (https://huggingface.co/distilbert/distilbert-base-uncased-finetuned-sst-2-english).\n",
      "Using a pipeline without specifying a model name and revision in production is not recommended.\n",
      "Device set to use mps:0\n"
     ]
    },
    {
     "name": "stdout",
     "output_type": "stream",
     "text": [
      "[{'label': 'POSITIVE', 'score': 0.9998753070831299}]\n"
     ]
    }
   ],
   "source": [
    "# 🤗 Using Hugging Face Transformers (Hands-On)\n",
    "# Let’s load a real model and run it on your own text 👇\n",
    "\n",
    "from transformers import pipeline    # Correct\n",
    "\n",
    "classifier = pipeline(\"sentiment-analysis\")\n",
    "\n",
    "# result = classifier(\"I love lesarning huggface with chatgpt\")\n",
    "result = classifier(\"happy\")\n",
    "print(result) # [{'label': 'POSITIVE', 'score': 0.9979}] 'label': Predicted class 'score': Confidence (close to 1.0 = very confident)"
   ]
  },
  {
   "cell_type": "markdown",
   "id": "e22cef83",
   "metadata": {},
   "source": [
    "🧠 What’s happening here:\n",
    "pipeline(\"sentiment-analysis\"): Loads a pretrained model like BERT that’s fine-tuned for sentiment.\n",
    "\n",
    "You pass in raw text → it gets tokenized, embedded, processed by transformer → gives a label (POSITIVE/NEGATIVE) + confidence."
   ]
  },
  {
   "cell_type": "code",
   "execution_count": null,
   "id": "16bc2184",
   "metadata": {},
   "outputs": [],
   "source": []
  }
 ],
 "metadata": {
  "kernelspec": {
   "display_name": "Python 3",
   "language": "python",
   "name": "python3"
  },
  "language_info": {
   "codemirror_mode": {
    "name": "ipython",
    "version": 3
   },
   "file_extension": ".py",
   "mimetype": "text/x-python",
   "name": "python",
   "nbconvert_exporter": "python",
   "pygments_lexer": "ipython3",
   "version": "3.9.6"
  }
 },
 "nbformat": 4,
 "nbformat_minor": 5
}

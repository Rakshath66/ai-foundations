{
 "cells": [
  {
   "cell_type": "markdown",
   "id": "38087006",
   "metadata": {},
   "source": [
    "🔥 First Concept: NLP - Tokenization\n",
    "\n",
    "💡 What is it?\n",
    "Tokenization = Breaking down text into smaller pieces (words, subwords, or characters) so that models can understand and process them."
   ]
  },
  {
   "cell_type": "markdown",
   "id": "b08cc9e1",
   "metadata": {},
   "source": [
    "🧠 Why it matters?\n",
    "Machines can’t read sentences directly. They need tokens (like “Hello” → [Hello]) to convert into numbers (embeddings).\n",
    "\n",
    "🔧 Types of Tokenizers:\n",
    "\n",
    "- Word-level → “Hello world” → ['Hello', 'world']\n",
    "- Subword-level (BPE) → “unhappiness” → ['un', 'happi', 'ness']\n",
    "- Character-level → “Hi” → ['H', 'i']\n",
    "\n",
    "✅ Real Use:\n",
    "Hugging Face models like BERT use subword tokenizers."
   ]
  },
  {
   "cell_type": "markdown",
   "id": "565e6e0e",
   "metadata": {
    "vscode": {
     "languageId": "plaintext"
    }
   },
   "source": [
    "🤗 Transformers – Core Concept\n",
    "\n",
    "💡 What is a Transformer?\n",
    "A Transformer is an architecture that understands sequences (like sentences) using self-attention – it looks at all words at once and learns which ones matter most.\n",
    "\n",
    "🧠 Why It Matters?\n",
    "This powers BERT, GPT, Claude, Gemini – all modern LLMs.\n",
    "\n",
    "Key Ideas:\n",
    "\n",
    "- No loops, just attention\n",
    "- Parallel processing = Fast\n",
    "- Can understand long-range word relationships (e.g., “bank” = riverbank or money)\n",
    "\n",
    "🧱 Transformer Parts (simple view):\n",
    "- Input Embeddings: Text → Vectors\n",
    "- Positional Encoding: Adds word order info\n",
    "- Self-Attention: Learns context\n",
    "- Feed Forward Layers: Processes info\n",
    "- Output: Classifies, generates, etc."
   ]
  },
  {
   "cell_type": "code",
   "execution_count": null,
   "id": "5eb56a5b",
   "metadata": {
    "vscode": {
     "languageId": "powershell"
    }
   },
   "outputs": [],
   "source": [
    "# !pip install transformers\n",
    "\n",
    "# change in notepad\n",
    "# or change in system Move Python 3.13 to Top in environmental variable\n",
    "\n"
   ]
  },
  {
   "cell_type": "code",
   "execution_count": null,
   "id": "a0c51976",
   "metadata": {},
   "outputs": [
    {
     "name": "stdout",
     "output_type": "stream",
     "text": [
      "/Library/Developer/CommandLineTools/usr/bin/python3\n"
     ]
    },
    {
     "name": "stderr",
     "output_type": "stream",
     "text": [
      "/Users/rakshathushetty/Library/Python/3.9/lib/python/site-packages/urllib3/__init__.py:35: NotOpenSSLWarning: urllib3 v2 only supports OpenSSL 1.1.1+, currently the 'ssl' module is compiled with 'LibreSSL 2.8.3'. See: https://github.com/urllib3/urllib3/issues/3020\n",
      "  warnings.warn(\n",
      "/Users/rakshathushetty/Library/Python/3.9/lib/python/site-packages/tqdm/auto.py:21: TqdmWarning: IProgress not found. Please update jupyter and ipywidgets. See https://ipywidgets.readthedocs.io/en/stable/user_install.html\n",
      "  from .autonotebook import tqdm as notebook_tqdm\n"
     ]
    },
    {
     "name": "stdout",
     "output_type": "stream",
     "text": [
      "4.52.4\n"
     ]
    }
   ],
   "source": [
    "import sys\n",
    "print(sys.executable)\n",
    "\n",
    "\n",
    "import transformers\n",
    "print(transformers.__version__)"
   ]
  },
  {
   "cell_type": "code",
   "execution_count": null,
   "id": "b4033f30",
   "metadata": {},
   "outputs": [
    {
     "name": "stderr",
     "output_type": "stream",
     "text": [
      "No model was supplied, defaulted to distilbert/distilbert-base-uncased-finetuned-sst-2-english and revision 714eb0f (https://huggingface.co/distilbert/distilbert-base-uncased-finetuned-sst-2-english).\n",
      "Using a pipeline without specifying a model name and revision in production is not recommended.\n",
      "Device set to use mps:0\n"
     ]
    },
    {
     "name": "stdout",
     "output_type": "stream",
     "text": [
      "[{'label': 'POSITIVE', 'score': 0.9998753070831299}]\n"
     ]
    }
   ],
   "source": [
    "# 🤗 Using Hugging Face Transformers (Hands-On)\n",
    "# Let’s load a real model and run it on your own text 👇\n",
    "\n",
    "from transformers import pipeline    # Correct\n",
    "\n",
    "classifier = pipeline(\"sentiment-analysis\")\n",
    "\n",
    "# result = classifier(\"I love lesarning huggface with chatgpt\")\n",
    "result = classifier(\"happy\")\n",
    "print(result) # [{'label': 'POSITIVE', 'score': 0.9979}] 'label': Predicted class 'score': Confidence (close to 1.0 = very confident)"
   ]
  },
  {
   "cell_type": "markdown",
   "id": "e22cef83",
   "metadata": {},
   "source": [
    "🧠 What’s happening here:\n",
    "pipeline(\"sentiment-analysis\"): Loads a pretrained model like BERT that’s fine-tuned for sentiment.\n",
    "\n",
    "You pass in raw text → it gets tokenized, embedded, processed by transformer → gives a label (POSITIVE/NEGATIVE) + confidence."
   ]
  },
  {
   "cell_type": "markdown",
   "id": "59d91548",
   "metadata": {},
   "source": [
    "🧠 Token IDs & Attention Mask (Mini Concept)\n",
    "\n",
    "💡 Token IDs:\n",
    "- Text is turned into numbers. Example:\n",
    "- \"AI is great\" → [101, 9932, 2003, 2307, 102] (Each word/subword gets a unique ID from the model's vocab)\n",
    "\n",
    "💡 Attention Mask:\n",
    "- Tells the model which tokens to focus on (1 = real word, 0 = padding).\n",
    "- Useful when inputs are of different lengths but sent as batches."
   ]
  },
  {
   "cell_type": "code",
   "execution_count": null,
   "id": "16bc2184",
   "metadata": {},
   "outputs": [
    {
     "name": "stdout",
     "output_type": "stream",
     "text": [
      "tensor([[  101,  9932,  2003, 12476,   999,   102]])\n",
      "tensor([[1, 1, 1, 1, 1, 1]])\n"
     ]
    }
   ],
   "source": [
    "from transformers import AutoTokenizer #loads class to fetch tokenizer from Hugging Face (e.g. bert, gpt, etc.)\n",
    "\n",
    "tokenizer = AutoTokenizer.from_pretrained(\"bert-base-uncased\") #✅ Downloads the BERT tokenizer (lowercase version) that knows how to:\n",
    "# split words into subwords\n",
    "# convert to token IDs\n",
    "inputs = tokenizer(\"AI is awesome!\", padding=True, truncation=True, return_tensors=\"pt\")\n",
    "# ✅ Tokenizes the input:\n",
    "# padding=True → Pads the input if it's shorter than max length\n",
    "# truncation=True → Cuts if it’s too long\n",
    "# return_tensors=\"pt\" → Returns PyTorch tensor format (pt = PyTorch)\n",
    "\n",
    "print(inputs['input_ids'])       # Token IDs\n",
    "print(inputs['attention_mask'])  # 1s = real tokens, 0s = ignore (pad)"
   ]
  },
  {
   "cell_type": "markdown",
   "id": "e92e2175",
   "metadata": {},
   "source": [
    "we’ll manually run text through a Transformer model for classification — to see how all pieces (tokenizer + model) work together."
   ]
  },
  {
   "cell_type": "code",
   "execution_count": null,
   "id": "6247b249",
   "metadata": {},
   "outputs": [
    {
     "name": "stdout",
     "output_type": "stream",
     "text": [
      "SequenceClassifierOutput(loss=None, logits=tensor([[-4.3246,  4.6837]]), hidden_states=None, attentions=None)\n",
      "tensor([[1.2238e-04, 9.9988e-01]])\n"
     ]
    }
   ],
   "source": [
    "from transformers import AutoTokenizer, AutoModelForSequenceClassification # Loads tokenizer + classification model\n",
    "import torch # We'll use PyTorch tensors for input/output\n",
    "\n",
    "tokenizer = AutoTokenizer.from_pretrained(\"distilbert-base-uncased\") # Tokenizer: Breaks input text into token IDs\n",
    "model = AutoModelForSequenceClassification.from_pretrained(\"distilbert-base-uncased-finetuned-sst-2-english\") #Model: A DistilBERT already trained for sentiment analysis (SST-2 dataset)\n",
    "\n",
    "inputs = tokenizer(\"I love this movie!\", return_tensors=\"pt\") #Tokenizes text → returns token IDs + attention mask (in PyTorch tensor format)\n",
    "\n",
    "with torch.no_grad():             # Disables gradient tracking (we're just predicting)\n",
    "    outputs = model(**inputs)     # Passes the input into the model to get output logits\n",
    "print(outputs)\n",
    "\n",
    "predictions = torch.nn.functional.softmax(outputs.logits, dim=-1) #Converts raw output (logits) into probabilities\n",
    "print(predictions)  #Usually returns 2 classes: [negative_prob, positive_prob]"
   ]
  },
  {
   "cell_type": "markdown",
   "id": "04c99a33",
   "metadata": {},
   "source": [
    "### 🔹 What is `logits`?\n",
    "\n",
    "* `logits` are the **raw, unnormalized outputs** from the final layer of a neural network.\n",
    "* They can be **positive or negative**, and **don’t sum to 1**.\n",
    "* You convert `logits` → probabilities using `softmax`.\n",
    "\n",
    "**Example:**\n",
    "\n",
    "```python\n",
    "logits = tensor([[2.0, 0.5]])\n",
    "# After softmax → [0.82, 0.18] → means class 0 is 82% likely\n",
    "```\n",
    "\n",
    "---\n",
    "\n",
    "### 🔹 What is `**inputs` inside the model?\n",
    "\n",
    "When you do:\n",
    "\n",
    "```python\n",
    "outputs = model(**inputs)\n",
    "```\n",
    "\n",
    "It’s the same as writing:\n",
    "\n",
    "```python\n",
    "outputs = model(input_ids=..., attention_mask=...)\n",
    "```\n",
    "\n",
    "✔️ `tokenizer(...)` returns a dictionary like:\n",
    "\n",
    "```python\n",
    "{\n",
    "  'input_ids': tensor([[101, 1045, 2293, 2023, 3185, 999, 102]]),\n",
    "  'attention_mask': tensor([[1, 1, 1, 1, 1, 1, 1]])\n",
    "}\n",
    "```\n",
    "\n",
    "The `**inputs` syntax **unpacks** that dictionary directly into keyword arguments for the model."
   ]
  },
  {
   "cell_type": "markdown",
   "id": "be9850fa",
   "metadata": {},
   "source": [
    "\n",
    "### 1️⃣ **Why `torch.no_grad()`?**\n",
    "\n",
    "When you're **only predicting (inference)** and not training, you don’t need to calculate gradients.\n",
    "\n",
    "✅ **Benefits:**\n",
    "\n",
    "* Saves memory\n",
    "* Speeds up execution\n",
    "* Cleaner and safer for inference\n",
    "\n",
    "---\n",
    "\n",
    "### 2️⃣ **What is Softmax?**\n",
    "\n",
    "🧠 **Softmax** turns raw scores (logits) into probabilities that add up to 1.\n",
    "\n",
    "**Formula:**\n",
    "\n",
    "$$\n",
    "\\text{softmax}(x_i) = \\frac{e^{x_i}}{\\sum_{j} e^{x_j}}\n",
    "$$\n",
    "\n",
    "It gives:\n",
    "\n",
    "* High confidence for the most likely class\n",
    "* Low values for others\n",
    "* Output like: `[0.02, 0.98]` → 98% confidence for class 1\n",
    "\n",
    "---\n",
    "\n",
    "### 3️⃣ **Whole Purpose Recap**\n",
    "\n",
    "We’re doing this:\n",
    "\n",
    "**Raw Text** → `Tokenizer` → `Model` → `Logits` → `Softmax` → `Probabilities` → `Prediction`\n",
    "\n",
    "📌 This is how Hugging Face models work internally:\n",
    "\n",
    "* Tokenization = preprocess\n",
    "* Model = neural network\n",
    "* Logits = raw model output\n",
    "* Softmax = make predictions human-readable\n"
   ]
  },
  {
   "cell_type": "markdown",
   "id": "976d8063",
   "metadata": {},
   "source": [
    "🛠️ Mini Project: Sentiment Classifier for Multiple Texts\n",
    "create a custom function that can analyze multiple reviews at once."
   ]
  },
  {
   "cell_type": "code",
   "execution_count": null,
   "id": "0337914b",
   "metadata": {},
   "outputs": [
    {
     "name": "stderr",
     "output_type": "stream",
     "text": [
      "No model was supplied, defaulted to distilbert/distilbert-base-uncased-finetuned-sst-2-english and revision 714eb0f (https://huggingface.co/distilbert/distilbert-base-uncased-finetuned-sst-2-english).\n",
      "Using a pipeline without specifying a model name and revision in production is not recommended.\n",
      "Device set to use mps:0\n"
     ]
    },
    {
     "name": "stdout",
     "output_type": "stream",
     "text": [
      "[{'label': 'POSITIVE', 'score': 0.9998781681060791}, {'label': 'NEGATIVE', 'score': 0.9997876286506653}, {'label': 'NEGATIVE', 'score': 0.9886063933372498}, {'label': 'NEGATIVE', 'score': 0.998314619064331}, {'label': 'POSITIVE', 'score': 0.999871015548706}]\n",
      "\n",
      "This movie was fantastic! -> POSITIVE (99.99%)\n",
      "Worst experience ever. -> NEGATIVE (99.98%)\n",
      "I loved the visuals but hated the story. -> NEGATIVE (98.86%)\n",
      "Just average, nothing special. -> NEGATIVE (99.83%)\n",
      "Absolutely brilliant! -> POSITIVE (99.99%)\n"
     ]
    }
   ],
   "source": [
    "from transformers import pipeline\n",
    "\n",
    "# Load sentiment analysis model\n",
    "sentiment_model = pipeline(\"sentiment-analysis\")\n",
    "\n",
    "# Sample reviews\n",
    "reviews = [\n",
    "    \"This movie was fantastic!\",\n",
    "    \"Worst experience ever.\",\n",
    "    \"I loved the visuals but hated the story.\",\n",
    "    \"Just average, nothing special.\",\n",
    "    \"Absolutely brilliant!\"\n",
    "]\n",
    "\n",
    "# Analyze all\n",
    "results = sentiment_model(reviews)\n",
    "print(results, end=\"\\n\\n\")\n",
    "\n",
    "for review, result in zip(reviews, results):\n",
    "    print(f\"{review} -> {result['label']} ({round(result['score']*100, 2)}%)\")\n"
   ]
  },
  {
   "cell_type": "markdown",
   "id": "e335b7e5",
   "metadata": {},
   "source": [
    "🔍 What You Practiced:\n",
    "\n",
    "- Multi-input processing\n",
    "- Model confidence score\n",
    "- Basic NLP automation"
   ]
  },
  {
   "cell_type": "markdown",
   "id": "bc9481c9",
   "metadata": {},
   "source": [
    "🧠 Use Custom Models from Hugging Face Hub\n",
    "explore other powerful models (e.g. emotion, topic, toxicity detection) using a few lines of code."
   ]
  },
  {
   "cell_type": "code",
   "execution_count": null,
   "id": "92ac4d4b",
   "metadata": {},
   "outputs": [
    {
     "name": "stderr",
     "output_type": "stream",
     "text": [
      "Device set to use mps:0\n"
     ]
    },
    {
     "name": "stdout",
     "output_type": "stream",
     "text": [
      "[[{'label': 'joy', 'score': 0.7351986765861511}]]\n"
     ]
    }
   ],
   "source": [
    "# ✅ Example 1: Emotion Detection\n",
    "from transformers import pipeline\n",
    "\n",
    "emotion = pipeline(\"text-classification\", model=\"j-hartmann/emotion-english-distilroberta-base\", top_k=1)\n",
    "\n",
    "print(emotion(\"I am so proud of myself today!\"))"
   ]
  },
  {
   "cell_type": "code",
   "execution_count": null,
   "id": "4cfe6fdb",
   "metadata": {},
   "outputs": [
    {
     "name": "stdout",
     "output_type": "stream",
     "text": [
      "{\"timestamp\":\"2025-06-20T07:16:36.187118Z\",\"level\":\"WARN\",\"fields\":{\"message\":\"Reqwest(reqwest::Error { kind: Request, url: \\\"https://transfer.xethub.hf.co/xorbs/default/4455fcc93c8d6194266e5d68eb8dde5edfc583ecad6f628fb052b62eeaf5be21?X-Xet-Signed-Range=bytes%3D12909080-24052376&Expires=1750407322&Policy=eyJTdGF0ZW1lbnQiOlt7IlJlc291cmNlIjoiaHR0cHM6Ly90cmFuc2Zlci54ZXRodWIuaGYuY28veG9yYnMvZGVmYXVsdC80NDU1ZmNjOTNjOGQ2MTk0MjY2ZTVkNjhlYjhkZGU1ZWRmYzU4M2VjYWQ2ZjYyOGZiMDUyYjYyZWVhZjViZTIxP1gtWGV0LVNpZ25lZC1SYW5nZT1ieXRlcyUzRDEyOTA5MDgwLTI0MDUyMzc2IiwiQ29uZGl0aW9uIjp7IkRhdGVMZXNzVGhhbiI6eyJBV1M6RXBvY2hUaW1lIjoxNzUwNDA3MzIyfX19XX0_&Signature=HJUk-DZjNT144pDHye5qa8TxSCMO1b6mlKCe8sYAuEf0XKxd-2Tgsa8uM3RlgggKiGI8izBCjcDPmNmZi2HghkqM~8WcmpPwMVzWfYu7m-99RP4SLmCVT4Vp6G~A-vbsfnvxwe~cHfFU9ZQc1cto9m8mZrdUKA0qTvEUTNY2buc76LwGkzdbJ8f077jWPJ5Md~uAeisiy7BBXurK1J9Or2rMF2JZ1TU5rk0-8ptwskHa1RPTjwJN8BkAIAb4Er4wIllowGMPnl9KuVl~T7G0JXsIyb5rKi9MCm4CQqBBVnLZ46t~QmQWPD9tbcTUyU~6EayHsOzyCJThxAhBY3Ro1w__&Key-Pair-Id=K2L8F4GPSG1IFC\\\", source: hyper_util::client::legacy::Error(SendRequest, hyper::Error(IncompleteMessage)) }). Retrying...\"},\"filename\":\"/Users/runner/work/xet-core/xet-core/cas_client/src/http_client.rs\",\"line_number\":242}\n",
      "{\"timestamp\":\"2025-06-20T07:16:36.188934Z\",\"level\":\"WARN\",\"fields\":{\"message\":\"Retry attempt #0. Sleeping 1.39892523s before the next attempt\"},\"filename\":\"/Users/runner/.cargo/registry/src/index.crates.io-1949cf8c6b5b557f/reqwest-retry-0.7.0/src/middleware.rs\",\"line_number\":171}\n"
     ]
    }
   ],
   "source": [
    "# ✅ Example 2: Topic Classification\n",
    "topic = pipeline(\"zero-shot-classification\", model=\"facebook/bart-large-mnli\")\n",
    "\n",
    "text = \"Apple is releasing a new iPhone this year\"\n",
    "# labels = [\"sports\", \"politics\", \"technology\", \"food\"]\n",
    "labels = [\"technology\", \"food\"]\n",
    "\n",
    "print(topic(text, candidate_labels=labels))\n"
   ]
  },
  {
   "cell_type": "code",
   "execution_count": null,
   "id": "37b84ce7",
   "metadata": {},
   "outputs": [],
   "source": [
    "# ✅ Example 3: Toxicity Detection\n",
    "toxic = pipeline(\"text-classification\", model=\"unitary/toxic-bert\")\n",
    "\n",
    "print(toxic(\"I hate you!\"))"
   ]
  },
  {
   "cell_type": "markdown",
   "id": "7c719bd4",
   "metadata": {},
   "source": [
    "🔍 Summary:\n",
    "- pipeline() makes any model easy to use\n",
    "- You can swap models using Hugging Face model names\n",
    "- Explore huggingface.co/models for more tasks"
   ]
  }
 ],
 "metadata": {
  "kernelspec": {
   "display_name": "Python 3",
   "language": "python",
   "name": "python3"
  },
  "language_info": {
   "codemirror_mode": {
    "name": "ipython",
    "version": 3
   },
   "file_extension": ".py",
   "mimetype": "text/x-python",
   "name": "python",
   "nbconvert_exporter": "python",
   "pygments_lexer": "ipython3",
   "version": "3.9.6"
  }
 },
 "nbformat": 4,
 "nbformat_minor": 5
}

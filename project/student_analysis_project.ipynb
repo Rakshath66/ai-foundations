{
 "cells": [
  {
   "cell_type": "markdown",
   "id": "02e4113b",
   "metadata": {},
   "source": [
    "✅ Your Tasks:\n",
    "\n",
    "import pandas as pd\n",
    "\n",
    "data = {\n",
    "    'Name': ['Nobita', 'Shizuka', 'Gian', 'Suneo', 'Doraemon', 'Dekisugi', None],\n",
    "    'Marks': [55, 95, 40, 60, 90, 98, 85],\n",
    "    'Attendance': [60, 100, None, 75, 80, 92, 88],\n",
    "    'Passed': ['No', 'Yes', 'No', 'Yes', 'Yes', 'Yes', 'Yes']\n",
    "}\n",
    "\n",
    "df = pd.DataFrame(data)\n",
    "\n",
    "\n",
    "1. Clean:\n",
    "\n",
    "Drop rows with missing Name\n",
    "\n",
    "Fill missing Attendance with average attendance\n",
    "\n",
    "2. Analyze:\n",
    "\n",
    "Filter students with Attendance > 75 and Marks > 80\n",
    "\n",
    "Count how many passed and failed (Passed column)\n",
    "\n",
    "3. Bonus:\n",
    "\n",
    "Sort the final DataFrame by Marks descending\n",
    "\n",
    "Save the cleaned data to a CSV \n",
    "\n"
   ]
  },
  {
   "cell_type": "code",
   "execution_count": 25,
   "id": "df6de1a0",
   "metadata": {},
   "outputs": [],
   "source": [
    "import pandas as pd\n",
    "\n",
    "data = {\n",
    "    'Name': ['Nobita', 'Shizuka', 'Gian', 'Suneo', 'Doraemon', 'Dekisugi', None],\n",
    "    'Marks': [55, 95, 40, 60, 90, 98, 85],\n",
    "    'Attendance': [60, 100, None, 75, 80, 92, 88],\n",
    "    'Passed': ['No', 'Yes', 'No', 'Yes', 'Yes', 'Yes', 'Yes']\n",
    "}\n",
    "\n",
    "df = pd.DataFrame(data)\n"
   ]
  },
  {
   "cell_type": "code",
   "execution_count": null,
   "id": "f684cdab",
   "metadata": {},
   "outputs": [
    {
     "name": "stdout",
     "output_type": "stream",
     "text": [
      "       Name  Marks  Attendance Passed\n",
      "0    Nobita     55        60.0     No\n",
      "1   Shizuka     95       100.0    Yes\n",
      "2      Gian     40         NaN     No\n",
      "3     Suneo     60        75.0    Yes\n",
      "4  Doraemon     90        80.0    Yes\n",
      "5  Dekisugi     98        92.0    Yes\n",
      "\n",
      "       Name  Marks  Attendance Passed\n",
      "0    Nobita     55        60.0     No\n",
      "1   Shizuka     95       100.0    Yes\n",
      "2      Gian     40         NaN     No\n",
      "3     Suneo     60        75.0    Yes\n",
      "4  Doraemon     90        80.0    Yes\n",
      "5  Dekisugi     98        92.0    Yes\n",
      "\n",
      "       Name  Marks  Attendance Passed\n",
      "0    Nobita     55        60.0     No\n",
      "1   Shizuka     95       100.0    Yes\n",
      "2      Gian     40        81.4     No\n",
      "3     Suneo     60        75.0    Yes\n",
      "4  Doraemon     90        80.0    Yes\n",
      "5  Dekisugi     98        92.0    Yes\n"
     ]
    }
   ],
   "source": [
    "# 1. Clean\n",
    "# A. Drop rows with missing Name\n",
    "print(df, end='\\n\\n')\n",
    "\n",
    "df = df[df['Name'].isna() == False]\n",
    "# df = df[df['Name'].notna()]\n",
    "# ALTERNATE BEST\n",
    "# df = df.dropna(subset=['Name'])\n",
    "print(df, end='\\n\\n')\n",
    "\n",
    "\n",
    "\n",
    "# B. Fill missing attendance with average attendance\n",
    "average = df['Attendance'].mean() # -> average value, df[df['Attendance'].isna()] -> gives null row\n",
    "\n",
    "# df[df['Attendance'].isna()]['Attendance'] = val    -> updates copy         -> creates temporary filter, then sets attendance on that copy (modifying view not original dataframe)\n",
    "df.loc[df['Attendance'].isna(), 'Attendance'] = average # -> loc updates original -> modifies original dataframe\n",
    "\n",
    "#ALTERNATE\n",
    "# missing_indexes = df[df['Attendance'].isna()].index\n",
    "# df.loc[missing_indexes, 'Attendance'] = average\n",
    "\n",
    "#ALTERNATE BEST\n",
    "# df['Attendance'] = df['Attendance'].fillna(df['Attendance'].mean())\n",
    "\n",
    "\n",
    "print(df)"
   ]
  },
  {
   "cell_type": "code",
   "execution_count": null,
   "id": "63fa375a",
   "metadata": {},
   "outputs": [
    {
     "name": "stdout",
     "output_type": "stream",
     "text": [
      "       Name  Marks  Attendance Passed\n",
      "0    Nobita     55        60.0     No\n",
      "1   Shizuka     95       100.0    Yes\n",
      "2      Gian     40        81.4     No\n",
      "3     Suneo     60        75.0    Yes\n",
      "4  Doraemon     90        80.0    Yes\n",
      "5  Dekisugi     98        92.0    Yes\n",
      "       Name  Marks  Attendance Passed\n",
      "1   Shizuka     95       100.0    Yes\n",
      "4  Doraemon     90        80.0    Yes\n",
      "5  Dekisugi     98        92.0    Yes\n",
      "Passed\n",
      "Yes    3\n",
      "Name: count, dtype: int64\n",
      "3\n"
     ]
    }
   ],
   "source": [
    "# 2. Analyze:\n",
    "# Filter students with Attendance > 75 and Marks > 80\n",
    "print(df)\n",
    "filtered_df = df[(df['Attendance'] > 75) & (df['Marks'] > 80)]\n",
    "print(filtered_df)\n",
    "\n",
    "# Count how many passed and failed (Passed column)\n",
    "print(filtered_df['Passed'].value_counts())\n",
    "#ALTERNATE\n",
    "# print((filtered_df['Passed'] == 'Yes').sum())\n",
    "# print((filtered_df['Passed'] == 'No').sum())\n",
    "# failed_count = (failed_df['Passed] == 'No').sum()\n",
    "# print(f\"Number of students who failed: {failed_count}\"))"
   ]
  },
  {
   "cell_type": "code",
   "execution_count": 49,
   "id": "30212694",
   "metadata": {},
   "outputs": [
    {
     "name": "stdout",
     "output_type": "stream",
     "text": [
      "       Name  Marks  Attendance Passed\n",
      "5  Dekisugi     98        92.0    Yes\n",
      "1   Shizuka     95       100.0    Yes\n",
      "4  Doraemon     90        80.0    Yes\n"
     ]
    }
   ],
   "source": [
    "# 3. Bonus:\n",
    "# Sort the final DataFrame by Marks descending\n",
    "final_df = filtered_df.sort_values(by='Marks', ascending=False)\n",
    "print(final_df)\n",
    "\n",
    "# Save the cleaned data to a CSV \n",
    "#💡 BONUS TIP:\n",
    "#Add a timestamp to your filename so multiple runs don’t overwrite:\n",
    "\n",
    "from datetime import datetime\n",
    "\n",
    "timestamp = datetime.now().strftime(\"%Y%m%d_%H%M%S\")\n",
    "final_df.to_csv(f\"final_dataframe_{timestamp}.csv\", index=False)\n"
   ]
  },
  {
   "cell_type": "code",
   "execution_count": null,
   "id": "ff5d4fbc",
   "metadata": {},
   "outputs": [],
   "source": []
  }
 ],
 "metadata": {
  "kernelspec": {
   "display_name": "Python 3",
   "language": "python",
   "name": "python3"
  },
  "language_info": {
   "codemirror_mode": {
    "name": "ipython",
    "version": 3
   },
   "file_extension": ".py",
   "mimetype": "text/x-python",
   "name": "python",
   "nbconvert_exporter": "python",
   "pygments_lexer": "ipython3",
   "version": "3.13.3"
  }
 },
 "nbformat": 4,
 "nbformat_minor": 5
}
